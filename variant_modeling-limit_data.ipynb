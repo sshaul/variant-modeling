{
 "cells": [
  {
   "cell_type": "code",
   "execution_count": 1,
   "metadata": {},
   "outputs": [],
   "source": [
    "import numpy as np\n",
    "import pandas\n",
    "from sklearn.semi_supervised import LabelPropagation, LabelSpreading\n",
    "from sklearn.model_selection import cross_val_score, StratifiedShuffleSplit\n",
    "from sklearn.linear_model import LogisticRegression\n",
    "from sklearn.decomposition import PCA\n",
    "from sklearn.svm import SVR\n",
    "from sklearn.metrics import accuracy_score, precision_score, recall_score, confusion_matrix\n",
    "import pickle\n",
    "import matplotlib.pyplot as plt\n",
    "from imblearn.under_sampling import RandomUnderSampler\n",
    "from sklearn.pipeline import Pipeline"
   ]
  },
  {
   "cell_type": "markdown",
   "metadata": {},
   "source": [
    "## Constants"
   ]
  },
  {
   "cell_type": "code",
   "execution_count": 2,
   "metadata": {},
   "outputs": [],
   "source": [
    "# file_path = \"/nfs/lab/varpred/Final_Results/final_matrices/\"\n",
    "file_path = \"./\"\n",
    "t1d_mat = file_path + \"T1D_new_04_09_short.bed\"\n",
    "t2d_mat = file_path + \"T2D_new_04_09_short.bed\"\n",
    "# topmed_mat = file_path + \"topmed_final.bed\""
   ]
  },
  {
   "cell_type": "markdown",
   "metadata": {},
   "source": [
    "# Automating Experiments"
   ]
  },
  {
   "cell_type": "markdown",
   "metadata": {},
   "source": [
    "## Data Ingestion"
   ]
  },
  {
   "cell_type": "code",
   "execution_count": 3,
   "metadata": {
    "scrolled": true
   },
   "outputs": [
    {
     "name": "stdout",
     "output_type": "stream",
     "text": [
      "Originally 31341 variants. Filtering out 0 variants; left with 31341\n"
     ]
    }
   ],
   "source": [
    "# Raw data from csv\n",
    "t1d_data_raw = pandas.read_csv(t1d_mat, sep='\\s+')\n",
    "\n",
    "# Splitting labels and data\n",
    "t1d_labels_raw = t1d_data_raw[\"Probability\"]\n",
    "t1d_data_raw = t1d_data_raw.drop(['Locus', 'VarID', 'Probability'], axis=1)\n",
    "\n",
    "# Filtering out variants with all 0s\n",
    "print(\"Originally\", len(t1d_data_raw), \"variants.\", \"Filtering out\", len(t1d_data_raw) - len(t1d_data_raw[(t1d_data_raw.T != 0).any()]), \"variants; left with\", len(t1d_data_raw[(t1d_data_raw.T != 0).any()]))\n",
    "\n",
    "t1d_data = t1d_data_raw[(t1d_data_raw.T != 0).any()]  # Only non-zero variants\n",
    "t1d_labels = t1d_labels_raw[t1d_labels_raw.index.isin(t1d_data.index)]  # Get matching labels\n",
    "\n",
    "# Resetting index for splitting\n",
    "t1d_data = t1d_data.reset_index(drop=True)\n",
    "t1d_labels = t1d_labels.reset_index(drop=True)"
   ]
  },
  {
   "cell_type": "code",
   "execution_count": 4,
   "metadata": {},
   "outputs": [],
   "source": [
    "# Removing imbalance columns\n",
    "t1d_data = t1d_data.drop(columns=[col for col in t1d_data.columns if 'imbal' in col])"
   ]
  },
  {
   "cell_type": "code",
   "execution_count": 5,
   "metadata": {},
   "outputs": [],
   "source": [
    "# Bin data\n",
    "bin_data = t1d_data.drop(columns=[col for col in t1d_data.columns if 'bin' not in col])\n",
    "\n",
    "# Non bin data\n",
    "non_bin_data = t1d_data.drop(columns=[col for col in t1d_data.columns if 'bin' in col])"
   ]
  },
  {
   "cell_type": "code",
   "execution_count": 6,
   "metadata": {},
   "outputs": [],
   "source": [
    "t1d_data = bin_data"
   ]
  },
  {
   "cell_type": "markdown",
   "metadata": {},
   "source": [
    "## Dimensionality Reduction"
   ]
  },
  {
   "cell_type": "code",
   "execution_count": 7,
   "metadata": {},
   "outputs": [],
   "source": [
    "pca = PCA(n_components=20)"
   ]
  },
  {
   "cell_type": "markdown",
   "metadata": {},
   "source": [
    "## Label Spreading Model Tests"
   ]
  },
  {
   "cell_type": "code",
   "execution_count": 8,
   "metadata": {},
   "outputs": [],
   "source": [
    "# Categorical labelling\n",
    "def label_prob(prob, prob_threshold_high, prob_threshold_low):\n",
    "    if prob > prob_threshold_high:\n",
    "        return 1\n",
    "    elif prob < prob_threshold_low:\n",
    "        return 0\n",
    "    else:\n",
    "        return -1\n",
    "    \n",
    "# Split unknown and known data\n",
    "def sort_data(data, labels):\n",
    "    known_data_bool = labels != -1\n",
    "    all_data = data.copy(deep=True)\n",
    "    all_data.insert(len(all_data.columns), 'label', labels)\n",
    "    all_data.insert(len(all_data.columns), 'known', known_data_bool)\n",
    "    all_known_data = all_data[all_data.known == True]\n",
    "    all_unknown_data = all_data[all_data.known == False]\n",
    "    known_data = all_known_data.drop(['label', 'known'], axis=1)\n",
    "    known_labels = all_known_data['label']\n",
    "    unknown_data = all_unknown_data.drop(['label', 'known'], axis=1)\n",
    "    unknown_labels = all_unknown_data['label']\n",
    "    \n",
    "    return all_known_data, unknown_data, known_data, known_labels, unknown_data, unknown_labels\n",
    "\n",
    "\n",
    "def create_splitter(all_known_data, unknown_data):\n",
    "    ss = StratifiedShuffleSplit(n_splits=5, test_size=0.25, random_state=0)\n",
    "    splits = ss.split(all_known_data)\n",
    "\n",
    "    def custom_splitter(splits):\n",
    "        for train_index, test_index in splits:\n",
    "            train_index = np.append(train_index, list(unknown_data.index.values))\n",
    "            yield train_index, test_index\n",
    "            \n",
    "    return splits, custom_splitter\n",
    "\n",
    "\n",
    "def perform_cv(model, data, labels):\n",
    "    all_known_data, unknown_data, known_data, known_labels, unknown_data, unknown_labels = sort_data(data, labels)\n",
    "    splits, custom_splitter = create_splitter(all_known_data, unknown_data)\n",
    "    cv_score = cross_val_score(model, data, y=labels, cv=custom_splitter(splits), verbose=1, n_jobs=1)\n",
    "    return np.mean(cv_score)\n",
    "\n",
    "def cv(model, data, labels):\n",
    "    all_known_data, unknown_data, known_data, known_labels, unknown_data, unknown_labels = sort_data(data, labels)\n",
    "    ss = StratifiedShuffleSplit(n_splits=5, test_size=0.25, random_state=0)\n",
    "    splits = ss.split(known_data, known_labels)\n",
    "    \n",
    "    total_acc_score = 0\n",
    "    total_prec_score = 0\n",
    "    total_rec_score = 0\n",
    "    total_fp_score = 0\n",
    "    total_tp_score = 0\n",
    "    total_tn_score = 0\n",
    "    total_fn_score = 0\n",
    "    num = 0\n",
    "    for train_idx, test_idx in splits:\n",
    "        train_data = known_data.iloc[train_idx].append(unknown_data)\n",
    "        test_data = known_data.iloc[test_idx]\n",
    "        train_labels = known_labels.iloc[train_idx].append(unknown_labels)\n",
    "        test_labels = known_labels.iloc[test_idx]\n",
    "        \n",
    "        rus = RandomUnderSampler(random_state=42)\n",
    "#         print(\"Test labels 0/1:\", len(test_labels[test_labels == 0]), len(test_labels[test_labels == 1]))\n",
    "        test_data, test_labels = rus.fit_resample(test_data, test_labels)\n",
    "#         print(\"After balance:\", len(test_labels[test_labels == 0]), len(test_labels[test_labels == 1]))\n",
    "\n",
    "        model.fit(train_data, train_labels)\n",
    "\n",
    "        # Predict on test\n",
    "        pred_labels = model.predict(test_data)\n",
    "\n",
    "        # Measure accuracy\n",
    "        acc = accuracy_score(test_labels, pred_labels)\n",
    "        prec = precision_score(test_labels, pred_labels)\n",
    "        rec = recall_score(test_labels, pred_labels)\n",
    "        total_acc_score += acc\n",
    "        total_prec_score += prec\n",
    "        total_rec_score += rec\n",
    "        tn, fp, fn, tp = confusion_matrix(test_labels, pred_labels).ravel()\n",
    "#         total_fp_score += (fp / (fp + tp))\n",
    "#         total_tp_score += (tp / (fp + tp))\n",
    "#         total_fn_score += (fn / (fn + tn))\n",
    "#         total_tn_score += (tn / (fn + tn))\n",
    "        total_fp_score += fp\n",
    "        total_tp_score += tp\n",
    "        total_fn_score += fn\n",
    "        total_tn_score += tn\n",
    "        num += 1\n",
    "        \n",
    "    total_fp_score = total_fp_score / num\n",
    "    total_tp_score = total_tp_score / num\n",
    "    total_fn_score = total_fn_score / num\n",
    "    total_tn_score = total_tn_score / num\n",
    "    \n",
    "    fp_percent = total_fp_score / (total_fp_score + total_tp_score)\n",
    "    tp_percent = total_tp_score / (total_fp_score + total_tp_score)\n",
    "    fn_percent = total_fn_score / (total_fn_score + total_tn_score)\n",
    "    tn_percent = total_tn_score / (total_fn_score + total_tn_score)\n",
    "\n",
    "    print(\"Avg accuracy, precision, recall:\", total_acc_score / num, total_prec_score / num, total_rec_score / num)\n",
    "    print(\"fp, tp, tn, fn:\", fp_percent, tp_percent, fn_percent, tn_percent)\n",
    "    return total_acc_score / num, total_prec_score / num, total_rec_score / num, fp_percent, tp_percent, fn_percent, tn_percent"
   ]
  },
  {
   "cell_type": "code",
   "execution_count": null,
   "metadata": {
    "scrolled": true
   },
   "outputs": [
    {
     "name": "stdout",
     "output_type": "stream",
     "text": [
      "high:  0.01 low 5e-06:Positive 869; Negative 613; Unlabelled 29859; \n"
     ]
    }
   ],
   "source": [
    "from sklearn.pipeline import make_pipeline\n",
    "from sklearn.preprocessing import StandardScaler, MinMaxScaler, Normalizer\n",
    "\n",
    "high_prob_thresholds = [0.01, 0.001, 0.0001]\n",
    "low_prob_thresholds = [0.000005, 0.000006, 0.000007, 0.000008, 0.00001]\n",
    "# high_prob_thresholds = [0.001]\n",
    "# low_prob_thresholds = [0.000005]\n",
    "# low_prob_thresholds = [0.00002, 0.000025, 0.00003]\n",
    "# kernels = ['knn', 'rbf']\n",
    "kernels = ['rbf']\n",
    "# gammas = [30, 25, 20, 15, 10, 5]\n",
    "# gammas = [25, 20, 15]\n",
    "gammas = [20]\n",
    "# n_neighbors = [10, 9, 8, 7, 6, 5, 4]\n",
    "# n_neighbors = [8, 7, 6]\n",
    "n_neighbors = [7]\n",
    "# alphas = [0.01, 0.2, 0.5, 0.8]\n",
    "alphas = [0.2, 0.5]\n",
    "\n",
    "res_columns = [\n",
    "    \"Positive Threshold\",\n",
    "    \"Negative Threshold\",\n",
    "    \"Num Positive Variants\",\n",
    "    \"Num Negative Variants\",\n",
    "    \"Num Unlabelled Variants\",\n",
    "    \"Pos/Neg ratio\",\n",
    "    \"Labelled/Unlabelled Ratio\",\n",
    "    \"Kernel\",\n",
    "    \"alpha\",\n",
    "    \"gamma\",\n",
    "    \"n_neighbors\",\n",
    "    \"Average Accuracy Score\",\n",
    "    \"Average Precision Score\",\n",
    "    \"Average Recall Score\",\n",
    "    \"Avg False Positives\",\n",
    "    \"Avg True Positives\",\n",
    "    \"Avg False Negatives\", \n",
    "    \"Average True Negatives\"\n",
    "]\n",
    "res = pandas.DataFrame(columns=res_columns)\n",
    "\n",
    "for prob_thresh_high in high_prob_thresholds:\n",
    "    for prob_thresh_low in low_prob_thresholds:\n",
    "        # Label points based on prob thresholds\n",
    "        print(\"high: \", prob_thresh_high, \"low\", prob_thresh_low, end=':')\n",
    "        print(\"Positive\", len(t1d_labels[t1d_labels > prob_thresh_high]), end='; ')\n",
    "        print(\"Negative\", len(t1d_labels[t1d_labels < prob_thresh_low]), end='; ')\n",
    "        print(\"Unlabelled\", len(t1d_labels[(t1d_labels <= prob_thresh_high) & (t1d_labels >= prob_thresh_low)]), end='; ')\n",
    "        print(\"\")\n",
    "        t1d_labels_thresh = t1d_labels.apply(lambda row: label_prob(row, prob_thresh_high, prob_thresh_low))\n",
    "        \n",
    "        # Data stats\n",
    "        num_pos = len(t1d_labels_thresh[t1d_labels_thresh == 1])\n",
    "        num_neg = len(t1d_labels_thresh[t1d_labels_thresh == 0])\n",
    "        num_unlabelled = len(t1d_labels_thresh[t1d_labels_thresh == -1])\n",
    "        pos_neg_ratio = num_pos / num_neg\n",
    "        label_ratio = (num_pos + num_neg) / num_unlabelled\n",
    "        \n",
    "        alphas += [prob_thresh_high]\n",
    "        for alpha in alphas:\n",
    "            for kernel in kernels:\n",
    "                models = []\n",
    "                if kernel == 'rbf':\n",
    "                    for gamma in gammas:\n",
    "                        model = LabelSpreading(kernel='rbf', alpha=alpha, gamma=gamma)\n",
    "#                         norm_model = make_pipeline(pca, model)\n",
    "#                         norm_model = make_pipeline(MinMaxScaler(), model)\n",
    "                        norm_model = model\n",
    "                        acc, prec, rec, fp, tp, fn, tn = cv(norm_model, t1d_data, t1d_labels_thresh)\n",
    "                        res.loc[res.shape[0]] = [prob_thresh_high, prob_thresh_low, num_pos, num_neg, num_unlabelled, pos_neg_ratio, label_ratio, kernel, alpha, gamma, \"N/A\", acc, prec, rec, fp, tp, fn, tn]\n",
    "                elif kernel == 'knn':\n",
    "                    for neighbors in n_neighbors:\n",
    "                        model = LabelSpreading(kernel=\"knn\", alpha=alpha, n_neighbors=neighbors)\n",
    "                        norm_model = make_pipeline(pca, model)\n",
    "#                         norm_model = make_pipeline(MinMaxScaler(), model)\n",
    "#                         norm_model = model\n",
    "                        acc, prec, rec, fp, tp, fn, tn = cv(norm_model, t1d_data, t1d_labels_thresh)\n",
    "                        res.loc[res.shape[0]] = [prob_thresh_high, prob_thresh_low, num_pos, num_neg, num_unlabelled, pos_neg_ratio, label_ratio, kernel, alpha, \"N/A\", neighbors, acc, prec, rec, fp, tp, fn, tn]\n",
    "\n",
    "                else:\n",
    "                    print(\"Error; invalid kernel\")\n",
    "                    continue\n",
    "\n",
    "res.to_csv(\"./Results/4.09_data/rbf_results_bin_data.csv\")           "
   ]
  },
  {
   "cell_type": "code",
   "execution_count": 24,
   "metadata": {},
   "outputs": [],
   "source": [
    "t1d_res = res"
   ]
  },
  {
   "cell_type": "code",
   "execution_count": 16,
   "metadata": {},
   "outputs": [],
   "source": [
    "t1d_res = pandas.read_csv('./Results/fixed_balanced_testing_rbf_results_bin_data_normalized.csv')\n",
    "# t2d_res = pandas.read_csv('./Results/t2d_normalized_label_spreading.csv')"
   ]
  },
  {
   "cell_type": "code",
   "execution_count": 25,
   "metadata": {},
   "outputs": [
    {
     "data": {
      "text/plain": [
       "[<matplotlib.lines.Line2D at 0x7f1f6218dcd0>]"
      ]
     },
     "execution_count": 25,
     "metadata": {},
     "output_type": "execute_result"
    },
    {
     "data": {
      "image/png": "[encoded data removed]",
      "text/plain": [
       "<Figure size 432x288 with 1 Axes>"
      ]
     },
     "metadata": {
      "needs_background": "light"
     },
     "output_type": "display_data"
    }
   ],
   "source": [
    "x = t1d_res[\"Labelled/Unlabelled Ratio\"]\n",
    "y = t1d_res['Average Accuracy Score']\n",
    "\n",
    "zipped = zip(x, y)\n",
    "sortedlist = sorted(zipped)\n",
    "\n",
    "tuples = zip(*sortedlist)\n",
    "x, y = [list(tuple) for tuple in tuples]\n",
    "\n",
    "plt.plot(x, y, label='label/unlabel ratio')"
   ]
  },
  {
   "cell_type": "code",
   "execution_count": 26,
   "metadata": {},
   "outputs": [
    {
     "data": {
      "text/plain": [
       "[<matplotlib.lines.Line2D at 0x7f1f61eb1090>]"
      ]
     },
     "execution_count": 26,
     "metadata": {},
     "output_type": "execute_result"
    },
    {
     "data": {
      "image/png": "[encoded data removed]",
      "text/plain": [
       "<Figure size 432x288 with 1 Axes>"
      ]
     },
     "metadata": {
      "needs_background": "light"
     },
     "output_type": "display_data"
    }
   ],
   "source": [
    "x = t1d_res[\"Pos/Neg ratio\"]\n",
    "y = t1d_res['Average Accuracy Score']\n",
    "\n",
    "zipped = zip(x, y)\n",
    "sortedlist = sorted(zipped)\n",
    "\n",
    "tuples = zip(*sortedlist)\n",
    "x, y = [list(tuple) for tuple in tuples]\n",
    "\n",
    "plt.plot(x, y, label='label/unlabel ratio')"
   ]
  },
  {
   "cell_type": "code",
   "execution_count": 3,
   "metadata": {},
   "outputs": [],
   "source": [
    "t1d_res = pandas.read_csv('./Results/t1d_ls_precision_accuracy_filtered.csv')"
   ]
  },
  {
   "cell_type": "code",
   "execution_count": 27,
   "metadata": {},
   "outputs": [
    {
     "data": {
      "text/plain": [
       "<matplotlib.legend.Legend at 0x7f1f5fdcae50>"
      ]
     },
     "execution_count": 27,
     "metadata": {},
     "output_type": "execute_result"
    },
    {
     "data": {
      "image/png": "[encoded data removed]",
      "text/plain": [
       "<Figure size 432x288 with 1 Axes>"
      ]
     },
     "metadata": {
      "needs_background": "light"
     },
     "output_type": "display_data"
    }
   ],
   "source": [
    "x = t1d_res[\"Pos/Neg ratio\"]\n",
    "x2 = t1d_res[\"Pos/Neg ratio\"]\n",
    "x3 = t1d_res[\"Pos/Neg ratio\"]\n",
    "y = t1d_res['Average Accuracy Score']\n",
    "y2 = t1d_res['Average Precision Score']\n",
    "y3 = t1d_res['Average Recall Score']\n",
    "\n",
    "zipped = zip(x, y)\n",
    "sortedlist = sorted(zipped)\n",
    "\n",
    "tuples = zip(*sortedlist)\n",
    "x, y = [list(tuple) for tuple in tuples]\n",
    "\n",
    "zipped = zip(x2, y2)\n",
    "sortedlist = sorted(zipped)\n",
    "\n",
    "tuples = zip(*sortedlist)\n",
    "x2, y2 = [list(tuple) for tuple in tuples]\n",
    "\n",
    "zipped = zip(x3, y3)\n",
    "sortedlist = sorted(zipped)\n",
    "\n",
    "tuples = zip(*sortedlist)\n",
    "x3, y3 = [list(tuple) for tuple in tuples]\n",
    "\n",
    "plt.plot(x, y, label='Accuracy')\n",
    "plt.plot(x2, y2, label='Precision')\n",
    "plt.plot(x3, y3, label='Recall')\n",
    "plt.title(\"Positive to Negative Ratio Effect on Score\")\n",
    "plt.xlabel(\"Pos/Neg Ratio\")\n",
    "plt.ylabel(\"Score\")\n",
    "plt.legend()"
   ]
  },
  {
   "cell_type": "code",
   "execution_count": 28,
   "metadata": {},
   "outputs": [
    {
     "data": {
      "text/plain": [
       "<matplotlib.legend.Legend at 0x7f1f5fd5b690>"
      ]
     },
     "execution_count": 28,
     "metadata": {},
     "output_type": "execute_result"
    },
    {
     "data": {
      "image/png": "[encoded data removed]",
      "text/plain": [
       "<Figure size 432x288 with 1 Axes>"
      ]
     },
     "metadata": {
      "needs_background": "light"
     },
     "output_type": "display_data"
    }
   ],
   "source": [
    "x = t1d_res[\"Labelled/Unlabelled Ratio\"]\n",
    "x2 = t1d_res[\"Labelled/Unlabelled Ratio\"]\n",
    "x3 = t1d_res[\"Labelled/Unlabelled Ratio\"]\n",
    "y = t1d_res['Average Accuracy Score']\n",
    "y2 = t1d_res['Average Precision Score']\n",
    "y3 = t1d_res['Average Recall Score']\n",
    "\n",
    "zipped = zip(x, y)\n",
    "sortedlist = sorted(zipped)\n",
    "\n",
    "tuples = zip(*sortedlist)\n",
    "x, y = [list(tuple) for tuple in tuples]\n",
    "\n",
    "zipped = zip(x2, y2)\n",
    "sortedlist = sorted(zipped)\n",
    "\n",
    "tuples = zip(*sortedlist)\n",
    "x2, y2 = [list(tuple) for tuple in tuples]\n",
    "\n",
    "zipped = zip(x3, y3)\n",
    "sortedlist = sorted(zipped)\n",
    "\n",
    "tuples = zip(*sortedlist)\n",
    "x3, y3 = [list(tuple) for tuple in tuples]\n",
    "\n",
    "plt.plot(x, y, label='Accuracy')\n",
    "plt.plot(x2, y2, label='Precision')\n",
    "plt.plot(x3, y3, label='Recall')\n",
    "plt.title(\"Labelled to Unlabelled Ratio Effect on Score\")\n",
    "plt.xlabel(\"Labelled/Unlabelled Ratio\")\n",
    "plt.ylabel(\"Score\")\n",
    "plt.legend()"
   ]
  },
  {
   "cell_type": "code",
   "execution_count": 6,
   "metadata": {},
   "outputs": [],
   "source": [
    "t1d_res = pandas.read_csv('./Results/t1d_ls_precision_accuracy_filtered_tp_fp.csv')"
   ]
  },
  {
   "cell_type": "code",
   "execution_count": 29,
   "metadata": {},
   "outputs": [
    {
     "data": {
      "text/plain": [
       "<matplotlib.legend.Legend at 0x7f1f5fcec410>"
      ]
     },
     "execution_count": 29,
     "metadata": {},
     "output_type": "execute_result"
    },
    {
     "data": {
      "image/png": "[encoded data removed]",
      "text/plain": [
       "<Figure size 432x288 with 1 Axes>"
      ]
     },
     "metadata": {
      "needs_background": "light"
     },
     "output_type": "display_data"
    }
   ],
   "source": [
    "x = t1d_res[\"Pos/Neg ratio\"]\n",
    "x2 = t1d_res[\"Pos/Neg ratio\"]\n",
    "x3 = t1d_res[\"Pos/Neg ratio\"]\n",
    "x4 = t1d_res[\"Pos/Neg ratio\"]\n",
    "y = t1d_res['Avg False Positives']\n",
    "y2 = t1d_res['Avg True Positives']\n",
    "y3 = t1d_res['Avg False Negatives']\n",
    "y4 = t1d_res['Average True Negatives']\n",
    "\n",
    "zipped = zip(x, y)\n",
    "sortedlist = sorted(zipped)\n",
    "\n",
    "tuples = zip(*sortedlist)\n",
    "x, y = [list(tuple) for tuple in tuples]\n",
    "\n",
    "zipped = zip(x2, y2)\n",
    "sortedlist = sorted(zipped)\n",
    "\n",
    "tuples = zip(*sortedlist)\n",
    "x2, y2 = [list(tuple) for tuple in tuples]\n",
    "\n",
    "zipped = zip(x3, y3)\n",
    "sortedlist = sorted(zipped)\n",
    "\n",
    "tuples = zip(*sortedlist)\n",
    "x3, y3 = [list(tuple) for tuple in tuples]\n",
    "\n",
    "zipped = zip(x4, y4)\n",
    "sortedlist = sorted(zipped)\n",
    "\n",
    "tuples = zip(*sortedlist)\n",
    "x4, y4 = [list(tuple) for tuple in tuples]\n",
    "\n",
    "plt.plot(x, y, label='False Positives')\n",
    "plt.plot(x2, y2, label='True Positives')\n",
    "plt.plot(x3, y3, label='False Negatives')\n",
    "plt.plot(x4, y4, label='True Negatives')\n",
    "plt.title(\"Positive to Negative Ratio Effect on Score\")\n",
    "plt.xlabel(\"Pos/Neg Ratio\")\n",
    "plt.ylabel(\"Score\")\n",
    "plt.legend()"
   ]
  },
  {
   "cell_type": "code",
   "execution_count": 30,
   "metadata": {},
   "outputs": [
    {
     "data": {
      "text/plain": [
       "<matplotlib.legend.Legend at 0x7f1f5fbfd450>"
      ]
     },
     "execution_count": 30,
     "metadata": {},
     "output_type": "execute_result"
    },
    {
     "data": {
      "image/png": "[encoded data removed]",
      "text/plain": [
       "<Figure size 432x288 with 1 Axes>"
      ]
     },
     "metadata": {
      "needs_background": "light"
     },
     "output_type": "display_data"
    }
   ],
   "source": [
    "x = t1d_res[\"Labelled/Unlabelled Ratio\"]\n",
    "x2 = t1d_res[\"Labelled/Unlabelled Ratio\"]\n",
    "x3 = t1d_res[\"Labelled/Unlabelled Ratio\"]\n",
    "x4 = t1d_res[\"Labelled/Unlabelled Ratio\"]\n",
    "y = t1d_res['Avg False Positives']\n",
    "y2 = t1d_res['Avg True Positives']\n",
    "y3 = t1d_res['Avg False Negatives']\n",
    "y4 = t1d_res['Average True Negatives']\n",
    "\n",
    "zipped = zip(x, y)\n",
    "sortedlist = sorted(zipped)\n",
    "\n",
    "tuples = zip(*sortedlist)\n",
    "x, y = [list(tuple) for tuple in tuples]\n",
    "\n",
    "zipped = zip(x2, y2)\n",
    "sortedlist = sorted(zipped)\n",
    "\n",
    "tuples = zip(*sortedlist)\n",
    "x2, y2 = [list(tuple) for tuple in tuples]\n",
    "\n",
    "zipped = zip(x3, y3)\n",
    "sortedlist = sorted(zipped)\n",
    "\n",
    "tuples = zip(*sortedlist)\n",
    "x3, y3 = [list(tuple) for tuple in tuples]\n",
    "\n",
    "zipped = zip(x4, y4)\n",
    "sortedlist = sorted(zipped)\n",
    "\n",
    "tuples = zip(*sortedlist)\n",
    "x4, y4 = [list(tuple) for tuple in tuples]\n",
    "\n",
    "plt.plot(x, y, label='False Positives')\n",
    "plt.plot(x2, y2, label='True Positives')\n",
    "plt.plot(x3, y3, label='False Negatives')\n",
    "plt.plot(x4, y4, label='True Negatives')\n",
    "plt.title(\"Labelled to Unlabelled Ratio Effect on Score\")\n",
    "plt.xlabel(\"Labelled/Unlabelled Ratio\")\n",
    "plt.ylabel(\"Score\")\n",
    "plt.legend()"
   ]
  },
  {
   "cell_type": "markdown",
   "metadata": {},
   "source": [
    "# Compare Limited Data to Prev"
   ]
  },
  {
   "cell_type": "code",
   "execution_count": 19,
   "metadata": {},
   "outputs": [],
   "source": [
    "all_data_res = pandas.read_csv('./Results/balanced_testing_rbf_results_PCA_20_components.csv')\n",
    "bin_data_res = pandas.read_csv('./Results/balanced_testing_rbf_results_PCA_20_components_bin_data.csv')"
   ]
  },
  {
   "cell_type": "code",
   "execution_count": 25,
   "metadata": {},
   "outputs": [
    {
     "data": {
      "text/plain": [
       "<matplotlib.legend.Legend at 0x7f1b71a83d90>"
      ]
     },
     "execution_count": 25,
     "metadata": {},
     "output_type": "execute_result"
    },
    {
     "data": {
      "image/png": "[encoded data removed]",
      "text/plain": [
       "<Figure size 432x288 with 1 Axes>"
      ]
     },
     "metadata": {
      "needs_background": "light"
     },
     "output_type": "display_data"
    }
   ],
   "source": [
    "x = all_data_res[\"Pos/Neg ratio\"]\n",
    "# x2 = all_data_res[\"Pos/Neg ratio\"]\n",
    "# x3 = all_data_res[\"Pos/Neg ratio\"]\n",
    "x2 = bin_data_res[\"Pos/Neg ratio\"]\n",
    "y = all_data_res['Average Accuracy Score']\n",
    "# y2 = all_data_res['Average Precision Score']\n",
    "# y3 = all_data_res['Average Recall Score']\n",
    "y2 = bin_data_res['Average Accuracy Score']\n",
    "\n",
    "zipped = zip(x, y)\n",
    "sortedlist = sorted(zipped)\n",
    "\n",
    "tuples = zip(*sortedlist)\n",
    "x, y = [list(tuple) for tuple in tuples]\n",
    "\n",
    "zipped = zip(x2, y2)\n",
    "sortedlist = sorted(zipped)\n",
    "\n",
    "tuples = zip(*sortedlist)\n",
    "x2, y2 = [list(tuple) for tuple in tuples]\n",
    "\n",
    "plt.plot(x, y, label='All data')\n",
    "plt.plot(x2, y2, label='Bin data')\n",
    "plt.title(\"Positive to Negative Ratio Effect on Score For all data and only Binary data\")\n",
    "plt.xlabel(\"Pos/Neg Ratio\")\n",
    "plt.ylabel(\"Score\")\n",
    "plt.legend()"
   ]
  },
  {
   "cell_type": "code",
   "execution_count": 26,
   "metadata": {},
   "outputs": [
    {
     "data": {
      "text/plain": [
       "0.6323863636363637"
      ]
     },
     "execution_count": 26,
     "metadata": {},
     "output_type": "execute_result"
    }
   ],
   "source": [
    "max(all_data_res['Average Accuracy Score'])"
   ]
  },
  {
   "cell_type": "code",
   "execution_count": 27,
   "metadata": {},
   "outputs": [
    {
     "data": {
      "text/plain": [
       "0.6585"
      ]
     },
     "execution_count": 27,
     "metadata": {},
     "output_type": "execute_result"
    }
   ],
   "source": [
    "max(bin_data_res['Average Accuracy Score'])"
   ]
  },
  {
   "cell_type": "code",
   "execution_count": 6,
   "metadata": {},
   "outputs": [
    {
     "data": {
      "text/html": [
       "<div>\n",
       "<style scoped>\n",
       "    .dataframe tbody tr th:only-of-type {\n",
       "        vertical-align: middle;\n",
       "    }\n",
       "\n",
       "    .dataframe tbody tr th {\n",
       "        vertical-align: top;\n",
       "    }\n",
       "\n",
       "    .dataframe thead th {\n",
       "        text-align: right;\n",
       "    }\n",
       "</style>\n",
       "<table border=\"1\" class=\"dataframe\">\n",
       "  <thead>\n",
       "    <tr style=\"text-align: right;\">\n",
       "      <th></th>\n",
       "      <th>Locus</th>\n",
       "      <th>VarID</th>\n",
       "      <th>Probability</th>\n",
       "      <th>Acinar_peaks_bin</th>\n",
       "      <th>Alpha_peaks_bin</th>\n",
       "      <th>Beta_peaks_bin</th>\n",
       "      <th>Delta_peaks_bin</th>\n",
       "      <th>Ductal_peaks_bin</th>\n",
       "      <th>Endo_peaks_bin</th>\n",
       "      <th>Gamma_peaks_bin</th>\n",
       "      <th>...</th>\n",
       "      <th>TFA</th>\n",
       "      <th>THA</th>\n",
       "      <th>TP5</th>\n",
       "      <th>TP6</th>\n",
       "      <th>USF</th>\n",
       "      <th>YY1.like</th>\n",
       "      <th>ZEB</th>\n",
       "      <th>ZFX.ZFY</th>\n",
       "      <th>ZNF</th>\n",
       "      <th>ZNF76.like</th>\n",
       "    </tr>\n",
       "  </thead>\n",
       "  <tbody>\n",
       "    <tr>\n",
       "      <th>0</th>\n",
       "      <td>BCL11A_2:60260984:C:T</td>\n",
       "      <td>2:60136527:T:C</td>\n",
       "      <td>0.000028</td>\n",
       "      <td>0</td>\n",
       "      <td>0</td>\n",
       "      <td>0</td>\n",
       "      <td>0</td>\n",
       "      <td>0</td>\n",
       "      <td>0</td>\n",
       "      <td>0</td>\n",
       "      <td>...</td>\n",
       "      <td>0</td>\n",
       "      <td>0</td>\n",
       "      <td>0</td>\n",
       "      <td>0</td>\n",
       "      <td>0</td>\n",
       "      <td>0</td>\n",
       "      <td>0</td>\n",
       "      <td>0</td>\n",
       "      <td>0</td>\n",
       "      <td>0</td>\n",
       "    </tr>\n",
       "    <tr>\n",
       "      <th>1</th>\n",
       "      <td>BCL11A_2:60260984:C:T</td>\n",
       "      <td>2:60137193:C:T</td>\n",
       "      <td>0.000009</td>\n",
       "      <td>0</td>\n",
       "      <td>0</td>\n",
       "      <td>0</td>\n",
       "      <td>0</td>\n",
       "      <td>0</td>\n",
       "      <td>0</td>\n",
       "      <td>0</td>\n",
       "      <td>...</td>\n",
       "      <td>0</td>\n",
       "      <td>0</td>\n",
       "      <td>0</td>\n",
       "      <td>0</td>\n",
       "      <td>0</td>\n",
       "      <td>0</td>\n",
       "      <td>0</td>\n",
       "      <td>0</td>\n",
       "      <td>0</td>\n",
       "      <td>0</td>\n",
       "    </tr>\n",
       "    <tr>\n",
       "      <th>2</th>\n",
       "      <td>BCL11A_2:60260984:C:T</td>\n",
       "      <td>2:60137630:G:A</td>\n",
       "      <td>0.002636</td>\n",
       "      <td>0</td>\n",
       "      <td>0</td>\n",
       "      <td>0</td>\n",
       "      <td>0</td>\n",
       "      <td>0</td>\n",
       "      <td>0</td>\n",
       "      <td>0</td>\n",
       "      <td>...</td>\n",
       "      <td>0</td>\n",
       "      <td>0</td>\n",
       "      <td>0</td>\n",
       "      <td>0</td>\n",
       "      <td>0</td>\n",
       "      <td>0</td>\n",
       "      <td>0</td>\n",
       "      <td>0</td>\n",
       "      <td>0</td>\n",
       "      <td>0</td>\n",
       "    </tr>\n",
       "    <tr>\n",
       "      <th>3</th>\n",
       "      <td>BCL11A_2:60260984:C:T</td>\n",
       "      <td>2:60142688:T:G</td>\n",
       "      <td>0.004140</td>\n",
       "      <td>0</td>\n",
       "      <td>0</td>\n",
       "      <td>0</td>\n",
       "      <td>0</td>\n",
       "      <td>0</td>\n",
       "      <td>0</td>\n",
       "      <td>0</td>\n",
       "      <td>...</td>\n",
       "      <td>0</td>\n",
       "      <td>0</td>\n",
       "      <td>0</td>\n",
       "      <td>0</td>\n",
       "      <td>0</td>\n",
       "      <td>0</td>\n",
       "      <td>0</td>\n",
       "      <td>0</td>\n",
       "      <td>0</td>\n",
       "      <td>0</td>\n",
       "    </tr>\n",
       "    <tr>\n",
       "      <th>4</th>\n",
       "      <td>BCL11A_2:60260984:C:T</td>\n",
       "      <td>2:60143175:C:T</td>\n",
       "      <td>0.000014</td>\n",
       "      <td>0</td>\n",
       "      <td>0</td>\n",
       "      <td>0</td>\n",
       "      <td>0</td>\n",
       "      <td>0</td>\n",
       "      <td>0</td>\n",
       "      <td>0</td>\n",
       "      <td>...</td>\n",
       "      <td>0</td>\n",
       "      <td>0</td>\n",
       "      <td>0</td>\n",
       "      <td>0</td>\n",
       "      <td>0</td>\n",
       "      <td>0</td>\n",
       "      <td>0</td>\n",
       "      <td>0</td>\n",
       "      <td>0</td>\n",
       "      <td>0</td>\n",
       "    </tr>\n",
       "    <tr>\n",
       "      <th>...</th>\n",
       "      <td>...</td>\n",
       "      <td>...</td>\n",
       "      <td>...</td>\n",
       "      <td>...</td>\n",
       "      <td>...</td>\n",
       "      <td>...</td>\n",
       "      <td>...</td>\n",
       "      <td>...</td>\n",
       "      <td>...</td>\n",
       "      <td>...</td>\n",
       "      <td>...</td>\n",
       "      <td>...</td>\n",
       "      <td>...</td>\n",
       "      <td>...</td>\n",
       "      <td>...</td>\n",
       "      <td>...</td>\n",
       "      <td>...</td>\n",
       "      <td>...</td>\n",
       "      <td>...</td>\n",
       "      <td>...</td>\n",
       "      <td>...</td>\n",
       "    </tr>\n",
       "    <tr>\n",
       "      <th>12375</th>\n",
       "      <td>PTPN2_18:12818922:G:A</td>\n",
       "      <td>18:12805388:G:A</td>\n",
       "      <td>0.292516</td>\n",
       "      <td>0</td>\n",
       "      <td>0</td>\n",
       "      <td>0</td>\n",
       "      <td>0</td>\n",
       "      <td>0</td>\n",
       "      <td>0</td>\n",
       "      <td>0</td>\n",
       "      <td>...</td>\n",
       "      <td>0</td>\n",
       "      <td>0</td>\n",
       "      <td>0</td>\n",
       "      <td>0</td>\n",
       "      <td>0</td>\n",
       "      <td>0</td>\n",
       "      <td>0</td>\n",
       "      <td>0</td>\n",
       "      <td>0</td>\n",
       "      <td>0</td>\n",
       "    </tr>\n",
       "    <tr>\n",
       "      <th>12376</th>\n",
       "      <td>PTPN2_18:12857758:G:A</td>\n",
       "      <td>18:12857758:G:A</td>\n",
       "      <td>0.593261</td>\n",
       "      <td>0</td>\n",
       "      <td>0</td>\n",
       "      <td>0</td>\n",
       "      <td>0</td>\n",
       "      <td>0</td>\n",
       "      <td>0</td>\n",
       "      <td>0</td>\n",
       "      <td>...</td>\n",
       "      <td>0</td>\n",
       "      <td>0</td>\n",
       "      <td>0</td>\n",
       "      <td>0</td>\n",
       "      <td>0</td>\n",
       "      <td>0</td>\n",
       "      <td>0</td>\n",
       "      <td>0</td>\n",
       "      <td>0</td>\n",
       "      <td>0</td>\n",
       "    </tr>\n",
       "    <tr>\n",
       "      <th>12377</th>\n",
       "      <td>PTPN22_1:114377568:A:G</td>\n",
       "      <td>1:114377568:A:G</td>\n",
       "      <td>1.000000</td>\n",
       "      <td>0</td>\n",
       "      <td>0</td>\n",
       "      <td>0</td>\n",
       "      <td>0</td>\n",
       "      <td>0</td>\n",
       "      <td>0</td>\n",
       "      <td>0</td>\n",
       "      <td>...</td>\n",
       "      <td>0</td>\n",
       "      <td>0</td>\n",
       "      <td>0</td>\n",
       "      <td>0</td>\n",
       "      <td>0</td>\n",
       "      <td>0</td>\n",
       "      <td>0</td>\n",
       "      <td>0</td>\n",
       "      <td>0</td>\n",
       "      <td>0</td>\n",
       "    </tr>\n",
       "    <tr>\n",
       "      <th>12378</th>\n",
       "      <td>TYK2_19:10463118:G:C</td>\n",
       "      <td>19:10463118:G:C</td>\n",
       "      <td>0.999905</td>\n",
       "      <td>0</td>\n",
       "      <td>1</td>\n",
       "      <td>1</td>\n",
       "      <td>0</td>\n",
       "      <td>0</td>\n",
       "      <td>0</td>\n",
       "      <td>0</td>\n",
       "      <td>...</td>\n",
       "      <td>0</td>\n",
       "      <td>0</td>\n",
       "      <td>0</td>\n",
       "      <td>0</td>\n",
       "      <td>0</td>\n",
       "      <td>0</td>\n",
       "      <td>0</td>\n",
       "      <td>0</td>\n",
       "      <td>0</td>\n",
       "      <td>0</td>\n",
       "    </tr>\n",
       "    <tr>\n",
       "      <th>12379</th>\n",
       "      <td>TYK2_19:10469975:A:C</td>\n",
       "      <td>19:10491005:C:G</td>\n",
       "      <td>0.077313</td>\n",
       "      <td>1</td>\n",
       "      <td>1</td>\n",
       "      <td>1</td>\n",
       "      <td>1</td>\n",
       "      <td>1</td>\n",
       "      <td>1</td>\n",
       "      <td>1</td>\n",
       "      <td>...</td>\n",
       "      <td>0</td>\n",
       "      <td>0</td>\n",
       "      <td>0</td>\n",
       "      <td>0</td>\n",
       "      <td>0</td>\n",
       "      <td>0</td>\n",
       "      <td>0</td>\n",
       "      <td>0</td>\n",
       "      <td>0</td>\n",
       "      <td>0</td>\n",
       "    </tr>\n",
       "  </tbody>\n",
       "</table>\n",
       "<p>12380 rows × 307 columns</p>\n",
       "</div>"
      ],
      "text/plain": [
       "                        Locus            VarID  Probability  Acinar_peaks_bin  \\\n",
       "0       BCL11A_2:60260984:C:T   2:60136527:T:C     0.000028                 0   \n",
       "1       BCL11A_2:60260984:C:T   2:60137193:C:T     0.000009                 0   \n",
       "2       BCL11A_2:60260984:C:T   2:60137630:G:A     0.002636                 0   \n",
       "3       BCL11A_2:60260984:C:T   2:60142688:T:G     0.004140                 0   \n",
       "4       BCL11A_2:60260984:C:T   2:60143175:C:T     0.000014                 0   \n",
       "...                       ...              ...          ...               ...   \n",
       "12375   PTPN2_18:12818922:G:A  18:12805388:G:A     0.292516                 0   \n",
       "12376   PTPN2_18:12857758:G:A  18:12857758:G:A     0.593261                 0   \n",
       "12377  PTPN22_1:114377568:A:G  1:114377568:A:G     1.000000                 0   \n",
       "12378    TYK2_19:10463118:G:C  19:10463118:G:C     0.999905                 0   \n",
       "12379    TYK2_19:10469975:A:C  19:10491005:C:G     0.077313                 1   \n",
       "\n",
       "       Alpha_peaks_bin  Beta_peaks_bin  Delta_peaks_bin  Ductal_peaks_bin  \\\n",
       "0                    0               0                0                 0   \n",
       "1                    0               0                0                 0   \n",
       "2                    0               0                0                 0   \n",
       "3                    0               0                0                 0   \n",
       "4                    0               0                0                 0   \n",
       "...                ...             ...              ...               ...   \n",
       "12375                0               0                0                 0   \n",
       "12376                0               0                0                 0   \n",
       "12377                0               0                0                 0   \n",
       "12378                1               1                0                 0   \n",
       "12379                1               1                1                 1   \n",
       "\n",
       "       Endo_peaks_bin  Gamma_peaks_bin  ...  TFA  THA  TP5  TP6  USF  \\\n",
       "0                   0                0  ...    0    0    0    0    0   \n",
       "1                   0                0  ...    0    0    0    0    0   \n",
       "2                   0                0  ...    0    0    0    0    0   \n",
       "3                   0                0  ...    0    0    0    0    0   \n",
       "4                   0                0  ...    0    0    0    0    0   \n",
       "...               ...              ...  ...  ...  ...  ...  ...  ...   \n",
       "12375               0                0  ...    0    0    0    0    0   \n",
       "12376               0                0  ...    0    0    0    0    0   \n",
       "12377               0                0  ...    0    0    0    0    0   \n",
       "12378               0                0  ...    0    0    0    0    0   \n",
       "12379               1                1  ...    0    0    0    0    0   \n",
       "\n",
       "       YY1.like  ZEB  ZFX.ZFY  ZNF  ZNF76.like  \n",
       "0             0    0        0    0           0  \n",
       "1             0    0        0    0           0  \n",
       "2             0    0        0    0           0  \n",
       "3             0    0        0    0           0  \n",
       "4             0    0        0    0           0  \n",
       "...         ...  ...      ...  ...         ...  \n",
       "12375         0    0        0    0           0  \n",
       "12376         0    0        0    0           0  \n",
       "12377         0    0        0    0           0  \n",
       "12378         0    0        0    0           0  \n",
       "12379         0    0        0    0           0  \n",
       "\n",
       "[12380 rows x 307 columns]"
      ]
     },
     "execution_count": 6,
     "metadata": {},
     "output_type": "execute_result"
    }
   ],
   "source": [
    "pandas.read_csv(t1d_mat, sep=\"\\s+\")"
   ]
  },
  {
   "cell_type": "code",
   "execution_count": null,
   "metadata": {},
   "outputs": [],
   "source": []
  }
 ],
 "metadata": {
  "kernelspec": {
   "display_name": "mykernel",
   "language": "python",
   "name": "mykernel"
  },
  "language_info": {
   "codemirror_mode": {
    "name": "ipython",
    "version": 3
   },
   "file_extension": ".py",
   "mimetype": "text/x-python",
   "name": "python",
   "nbconvert_exporter": "python",
   "pygments_lexer": "ipython3",
   "version": "3.7.6"
  }
 },
 "nbformat": 4,
 "nbformat_minor": 2
}
