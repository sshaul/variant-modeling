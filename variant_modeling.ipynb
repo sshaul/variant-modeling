{
 "cells": [
  {
   "cell_type": "code",
   "execution_count": 1,
   "metadata": {},
   "outputs": [],
   "source": [
    "import numpy as np\n",
    "import pandas\n",
    "from sklearn.semi_supervised import LabelPropagation, LabelSpreading\n",
    "from sklearn.model_selection import cross_val_score, ShuffleSplit\n",
    "from sklearn.linear_model import LogisticRegression\n",
    "from sklearn.decomposition import PCA\n",
    "from sklearn.svm import SVR\n",
    "from sklearn.metrics import accuracy_score, precision_score, recall_score, confusion_matrix\n",
    "import pickle\n",
    "import matplotlib.pyplot as plt"
   ]
  },
  {
   "cell_type": "markdown",
   "metadata": {},
   "source": [
    "## Constants"
   ]
  },
  {
   "cell_type": "code",
   "execution_count": 2,
   "metadata": {},
   "outputs": [],
   "source": [
    "# file_path = \"/nfs/lab/varpred/Final_Results/final_matrices/\"\n",
    "file_path = \"./\"\n",
    "# t1d_mat = file_path + \"T1D_final_short.bed\"\n",
    "t1d_mat = file_path + \"t1d_final_short_after_loci_filtering.bed\"\n",
    "# t2d_mat = file_path + \"T2D_final_short.bed\"\n",
    "t2d_mat = file_path + \"t2d_final_short_after_loci_filtering.bed\"\n",
    "topmed_mat = file_path + \"topmed_final.bed\"\n",
    "proba_threshold_high = 0.8\n",
    "proba_threshold_low = 0.000005"
   ]
  },
  {
   "cell_type": "markdown",
   "metadata": {},
   "source": [
    "# Data Ingestion"
   ]
  },
  {
   "cell_type": "code",
   "execution_count": 16,
   "metadata": {},
   "outputs": [],
   "source": [
    "t1d_data = pandas.read_csv(t1d_mat, sep='\\s+')\n",
    "t2d_data = pandas.read_csv(t2d_mat, sep=' ')\n",
    "# topmed_data = pandas.read_csv(topmed_mat, sep=' ')\n",
    "\n",
    "t1d_labels = t1d_data[\"Probability\"]\n",
    "t1d_data = t1d_data.drop(['VarID', 'Probability'], axis=1)\n",
    "t2d_labels = t2d_data[\"Probability\"]\n",
    "t2d_data = t2d_data.drop(['VarID', 'Probability'], axis=1)\n",
    "# topmed_labels = topmed_data[\"Probability\"]\n",
    "# topmed_data = topmed_data.drop(['VarID', 'Probability'], axis=1)"
   ]
  },
  {
   "cell_type": "markdown",
   "metadata": {},
   "source": [
    "# Label Propagation"
   ]
  },
  {
   "cell_type": "code",
   "execution_count": 7,
   "metadata": {},
   "outputs": [],
   "source": [
    "label_prop_model = LabelPropagation()\n",
    "# label_prop_model.fit(data, labels)"
   ]
  },
  {
   "cell_type": "code",
   "execution_count": null,
   "metadata": {},
   "outputs": [],
   "source": [
    "pickle.dump(label_prop_model, open(f\"./models/label_prop_model_thresh_{proba_threshold}\", 'wb'))"
   ]
  },
  {
   "cell_type": "markdown",
   "metadata": {},
   "source": [
    "# Label Spreading"
   ]
  },
  {
   "cell_type": "code",
   "execution_count": 8,
   "metadata": {},
   "outputs": [],
   "source": [
    "label_spread_model = LabelSpreading(alpha=(proba_threshold_high))\n",
    "label_spread_knn = LabelSpreading(alpha=(1-proba_threshold_high), kernel=\"knn\")\n",
    "# label_spread_model.fit(data, labels)"
   ]
  },
  {
   "cell_type": "code",
   "execution_count": 26,
   "metadata": {},
   "outputs": [],
   "source": [
    "pickle.dump(label_spread_model, open(f\"./models/label_spread_model_thresh_{proba_threshold}\", 'wb'))"
   ]
  },
  {
   "cell_type": "markdown",
   "metadata": {},
   "source": [
    "# Experimenting"
   ]
  },
  {
   "cell_type": "code",
   "execution_count": 33,
   "metadata": {},
   "outputs": [],
   "source": [
    "# known_data_bool = labels != -1\n",
    "# all_data = data.copy(deep=True)\n",
    "# all_data.insert(len(all_data.columns), 'label', labels)\n",
    "# all_data.insert(len(all_data.columns), 'known', known_data_bool)\n",
    "# all_known_data = all_data[all_data.known == True]\n",
    "# all_unknown_data = all_data[all_data.known == False]\n",
    "# known_data = all_known_data.drop(['label', 'known'], axis=1)\n",
    "# known_labels = all_known_data['label']\n",
    "# unknown_data = all_unknown_data.drop(['label', 'known'], axis=1)\n",
    "# unknown_labels = all_unknown_data['label']\n",
    "\n",
    "# known_data_bool = t1d_peak_labels != -1\n",
    "# all_data = t1d_peaks.copy(deep=True)\n",
    "# all_data.insert(len(all_data.columns), 'label', t1d_peak_labels)\n",
    "# all_data.insert(len(all_data.columns), 'known', known_data_bool)\n",
    "# all_known_data = all_data[all_data.known == True]\n",
    "# all_unknown_data = all_data[all_data.known == False]\n",
    "# known_data = all_known_data.drop(['label', 'known'], axis=1)\n",
    "# known_labels = all_known_data['label']\n",
    "# unknown_data = all_unknown_data.drop(['label', 'known'], axis=1)\n",
    "# unknown_labels = all_unknown_data['label']\n",
    "\n",
    "def sort_data(data, labels):\n",
    "    known_data_bool = labels != -1\n",
    "    all_data = data.copy(deep=True)\n",
    "    all_data.insert(len(all_data.columns), 'label', labels)\n",
    "    all_data.insert(len(all_data.columns), 'known', known_data_bool)\n",
    "    all_known_data = all_data[all_data.known == True]\n",
    "    all_unknown_data = all_data[all_data.known == False]\n",
    "    known_data = all_known_data.drop(['label', 'known'], axis=1)\n",
    "    known_labels = all_known_data['label']\n",
    "    unknown_data = all_unknown_data.drop(['label', 'known'], axis=1)\n",
    "    unknown_labels = all_unknown_data['label']\n",
    "    \n",
    "    return all_known_data, known_data, known_labels, unknown_data, unknown_labels\n",
    "\n",
    "all_known_data, unknown_data, known_data, known_labels, unknown_data, unknown_labels = sort_data(t1d_peaks, t1d_peak_labels)"
   ]
  },
  {
   "cell_type": "code",
   "execution_count": 34,
   "metadata": {},
   "outputs": [
    {
     "name": "stdout",
     "output_type": "stream",
     "text": [
      "Num unknown: 4479\n",
      "Num negative: 4661\n",
      "Num positive: 4238\n"
     ]
    }
   ],
   "source": [
    "print('Num unknown:', len(unknown_labels))\n",
    "print('Num negative:', len(known_labels[known_labels == 0]))\n",
    "print('Num positive:', len(known_labels[known_labels == 1]))"
   ]
  },
  {
   "cell_type": "code",
   "execution_count": 35,
   "metadata": {},
   "outputs": [],
   "source": [
    "def create_splitter(all_known_data, unknown_data):\n",
    "    ss = ShuffleSplit(n_splits=5, test_size=0.25, random_state=0)\n",
    "    splits = ss.split(all_known_data)\n",
    "\n",
    "    def custom_splitter(splits):\n",
    "        for train_index, test_index in splits:\n",
    "            train_index = np.append(train_index, list(unknown_data.index.values))\n",
    "            yield train_index, test_index\n",
    "            \n",
    "    return splits, custom_splitter\n",
    "\n",
    "create_splitter(all_known_data, unknown_data)"
   ]
  },
  {
   "cell_type": "code",
   "execution_count": 54,
   "metadata": {},
   "outputs": [
    {
     "name": "stdout",
     "output_type": "stream",
     "text": [
      "<class 'generator'>\n",
      "11089\n",
      "1716 573\n",
      "12805 573\n",
      "1716 573\n",
      "12805 573\n",
      "1716 573\n",
      "12805 573\n",
      "1716 573\n",
      "12805 573\n",
      "1716 573\n",
      "12805 573\n"
     ]
    },
    {
     "name": "stderr",
     "output_type": "stream",
     "text": [
      "[Parallel(n_jobs=4)]: Using backend LokyBackend with 4 concurrent workers.\n",
      "[Parallel(n_jobs=4)]: Done   5 out of   5 | elapsed:  6.0min finished\n"
     ]
    }
   ],
   "source": [
    "cv_score = cross_val_score(label_prop_model, t1d_peaks, y=t1d_peak_labels, cv=custom_splitter(splits), verbose=1, n_jobs=4)"
   ]
  },
  {
   "cell_type": "code",
   "execution_count": 55,
   "metadata": {},
   "outputs": [
    {
     "data": {
      "text/plain": [
       "array([0.09773124, 0.09773124, 0.11343805, 0.12914485, 0.10994764])"
      ]
     },
     "execution_count": 55,
     "metadata": {},
     "output_type": "execute_result"
    }
   ],
   "source": [
    "cv_score"
   ]
  },
  {
   "cell_type": "code",
   "execution_count": 36,
   "metadata": {},
   "outputs": [
    {
     "name": "stderr",
     "output_type": "stream",
     "text": [
      "[Parallel(n_jobs=1)]: Using backend SequentialBackend with 1 concurrent workers.\n",
      "/opt/conda/lib/python3.7/site-packages/sklearn/semi_supervised/_label_propagation.py:288: ConvergenceWarning: max_iter=30 was reached without convergence.\n",
      "  category=ConvergenceWarning\n",
      "/opt/conda/lib/python3.7/site-packages/sklearn/semi_supervised/_label_propagation.py:293: RuntimeWarning: invalid value encountered in true_divide\n",
      "  self.label_distributions_ /= normalizer\n",
      "/opt/conda/lib/python3.7/site-packages/sklearn/semi_supervised/_label_propagation.py:288: ConvergenceWarning: max_iter=30 was reached without convergence.\n",
      "  category=ConvergenceWarning\n",
      "/opt/conda/lib/python3.7/site-packages/sklearn/semi_supervised/_label_propagation.py:293: RuntimeWarning: invalid value encountered in true_divide\n",
      "  self.label_distributions_ /= normalizer\n",
      "/opt/conda/lib/python3.7/site-packages/sklearn/semi_supervised/_label_propagation.py:288: ConvergenceWarning: max_iter=30 was reached without convergence.\n",
      "  category=ConvergenceWarning\n",
      "/opt/conda/lib/python3.7/site-packages/sklearn/semi_supervised/_label_propagation.py:293: RuntimeWarning: invalid value encountered in true_divide\n",
      "  self.label_distributions_ /= normalizer\n",
      "/opt/conda/lib/python3.7/site-packages/sklearn/semi_supervised/_label_propagation.py:288: ConvergenceWarning: max_iter=30 was reached without convergence.\n",
      "  category=ConvergenceWarning\n",
      "/opt/conda/lib/python3.7/site-packages/sklearn/semi_supervised/_label_propagation.py:293: RuntimeWarning: invalid value encountered in true_divide\n",
      "  self.label_distributions_ /= normalizer\n",
      "/opt/conda/lib/python3.7/site-packages/sklearn/semi_supervised/_label_propagation.py:288: ConvergenceWarning: max_iter=30 was reached without convergence.\n",
      "  category=ConvergenceWarning\n",
      "/opt/conda/lib/python3.7/site-packages/sklearn/semi_supervised/_label_propagation.py:293: RuntimeWarning: invalid value encountered in true_divide\n",
      "  self.label_distributions_ /= normalizer\n",
      "[Parallel(n_jobs=1)]: Done   5 out of   5 | elapsed:    3.1s finished\n"
     ]
    }
   ],
   "source": [
    "cv_score = cross_val_score(label_spread_knn, t1d_peaks, y=t1d_peak_labels, cv=custom_splitter(splits), verbose=1, n_jobs=1)"
   ]
  },
  {
   "cell_type": "code",
   "execution_count": 37,
   "metadata": {},
   "outputs": [
    {
     "data": {
      "text/plain": [
       "array([0.38831461, 0.38876404, 0.36      , 0.36359551, 0.37168539])"
      ]
     },
     "execution_count": 37,
     "metadata": {},
     "output_type": "execute_result"
    }
   ],
   "source": [
    "cv_score"
   ]
  },
  {
   "cell_type": "markdown",
   "metadata": {},
   "source": [
    "# Automating Experiments"
   ]
  },
  {
   "cell_type": "markdown",
   "metadata": {},
   "source": [
    "## Data Ingestion"
   ]
  },
  {
   "cell_type": "code",
   "execution_count": 11,
   "metadata": {
    "scrolled": true
   },
   "outputs": [
    {
     "name": "stdout",
     "output_type": "stream",
     "text": [
      "Originally 12380 variants. Filtering out 0 variants; left with 12380\n"
     ]
    }
   ],
   "source": [
    "# Raw data from csv\n",
    "t1d_data_raw = pandas.read_csv(t1d_mat, sep='\\s+')\n",
    "\n",
    "# Splitting labels and data\n",
    "t1d_labels_raw = t1d_data_raw[\"Probability\"]\n",
    "t1d_data_raw = t1d_data_raw.drop(['Locus', 'VarID', 'Probability'], axis=1)\n",
    "\n",
    "# Filtering out variants with all 0s\n",
    "print(\"Originally\", len(t1d_data_raw), \"variants.\", \"Filtering out\", len(t1d_data_raw) - len(t1d_data_raw[(t1d_data_raw.T != 0).any()]), \"variants; left with\", len(t1d_data_raw[(t1d_data_raw.T != 0).any()]))\n",
    "\n",
    "t1d_data = t1d_data_raw[(t1d_data_raw.T != 0).any()]  # Only non-zero variants\n",
    "t1d_labels = t1d_labels_raw[t1d_labels_raw.index.isin(t1d_data.index)]  # Get matching labels\n",
    "\n",
    "# Resetting index for splitting\n",
    "t1d_data = t1d_data.reset_index(drop=True)\n",
    "t1d_labels = t1d_labels.reset_index(drop=True)"
   ]
  },
  {
   "cell_type": "code",
   "execution_count": 12,
   "metadata": {},
   "outputs": [],
   "source": [
    "# Removing imbalance columns\n",
    "t1d_data = t1d_data.drop(columns=[col for col in t1d_data.columns if 'imbal' in col])"
   ]
  },
  {
   "cell_type": "markdown",
   "metadata": {},
   "source": [
    "## Label Spreading Model Tests"
   ]
  },
  {
   "cell_type": "code",
   "execution_count": 18,
   "metadata": {},
   "outputs": [],
   "source": [
    "# Categorical labelling\n",
    "def label_prob(prob, prob_threshold_high, prob_threshold_low):\n",
    "    if prob > prob_threshold_high:\n",
    "        return 1\n",
    "    elif prob < prob_threshold_low:\n",
    "        return 0\n",
    "    else:\n",
    "        return -1\n",
    "    \n",
    "# Split unknown and known data\n",
    "def sort_data(data, labels):\n",
    "    known_data_bool = labels != -1\n",
    "    all_data = data.copy(deep=True)\n",
    "    all_data.insert(len(all_data.columns), 'label', labels)\n",
    "    all_data.insert(len(all_data.columns), 'known', known_data_bool)\n",
    "    all_known_data = all_data[all_data.known == True]\n",
    "    all_unknown_data = all_data[all_data.known == False]\n",
    "    known_data = all_known_data.drop(['label', 'known'], axis=1)\n",
    "    known_labels = all_known_data['label']\n",
    "    unknown_data = all_unknown_data.drop(['label', 'known'], axis=1)\n",
    "    unknown_labels = all_unknown_data['label']\n",
    "    \n",
    "    return all_known_data, unknown_data, known_data, known_labels, unknown_data, unknown_labels\n",
    "\n",
    "\n",
    "def create_splitter(all_known_data, unknown_data):\n",
    "    ss = ShuffleSplit(n_splits=5, test_size=0.25, random_state=0)\n",
    "    splits = ss.split(all_known_data)\n",
    "\n",
    "    def custom_splitter(splits):\n",
    "        for train_index, test_index in splits:\n",
    "            train_index = np.append(train_index, list(unknown_data.index.values))\n",
    "            yield train_index, test_index\n",
    "            \n",
    "    return splits, custom_splitter\n",
    "\n",
    "\n",
    "def perform_cv(model, data, labels):\n",
    "    all_known_data, unknown_data, known_data, known_labels, unknown_data, unknown_labels = sort_data(data, labels)\n",
    "    splits, custom_splitter = create_splitter(all_known_data, unknown_data)\n",
    "    cv_score = cross_val_score(model, data, y=labels, cv=custom_splitter(splits), verbose=1, n_jobs=1)\n",
    "    return np.mean(cv_score)\n",
    "\n",
    "def cv(model, data, labels):\n",
    "    all_known_data, unknown_data, known_data, known_labels, unknown_data, unknown_labels = sort_data(data, labels)\n",
    "    ss = ShuffleSplit(n_splits=5, test_size=0.25, random_state=0)\n",
    "    splits = ss.split(known_data)\n",
    "    \n",
    "    total_acc_score = 0\n",
    "    total_prec_score = 0\n",
    "    total_rec_score = 0\n",
    "    total_fp_score = 0\n",
    "    total_tp_score = 0\n",
    "    total_tn_score = 0\n",
    "    total_fn_score = 0\n",
    "    num = 0\n",
    "    for train_idx, test_idx in splits:\n",
    "        train_data = known_data.iloc[train_idx].append(unknown_data)\n",
    "        test_data = known_data.iloc[test_idx]\n",
    "        train_labels = known_labels.iloc[train_idx].append(unknown_labels)\n",
    "        test_labels = known_labels.iloc[test_idx]\n",
    "\n",
    "        model.fit(train_data, train_labels)\n",
    "\n",
    "        # Predict on test\n",
    "        pred_labels = model.predict(test_data)\n",
    "\n",
    "        # Measure accuracy\n",
    "        acc = accuracy_score(pred_labels, test_labels)\n",
    "        prec = precision_score(pred_labels, test_labels)\n",
    "        rec = recall_score(pred_labels, test_labels)\n",
    "        total_acc_score += acc\n",
    "        total_prec_score += prec\n",
    "        total_rec_score += rec\n",
    "        tn, fp, fn, tp = confusion_matrix(pred_labels, test_labels).ravel()\n",
    "        total_fp_score += (fp / (fp + tp))\n",
    "        total_tp_score += (tp / (fp + tp))\n",
    "        total_fn_score += (fn / (fn + tn))\n",
    "        total_tn_score += (tn / (fn + tn))\n",
    "        num += 1\n",
    "        break\n",
    "\n",
    "    print(\"Avg accuracy, precision, recall:\", total_acc_score / num, total_prec_score / num, total_rec_score / num)\n",
    "    print(\"fp, tp, tn, fn:\", total_fp_score / num, total_tp_score / num, total_tn_score / num, total_fn_score / num)\n",
    "    return total_acc_score / num, total_prec_score / num, total_rec_score / num, total_fp_score / num, total_tp_score / num, total_fn_score / num, total_tn_score / num"
   ]
  },
  {
   "cell_type": "code",
   "execution_count": 19,
   "metadata": {
    "scrolled": true
   },
   "outputs": [
    {
     "name": "stdout",
     "output_type": "stream",
     "text": [
      "high:  0.001 low 5e-06:Positive 1930; Negative 246; Unlabelled 10204; \n",
      "Avg accuracy, precision, recall: 0.875 0.9621848739495799 0.9015748031496063\n",
      "fp, tp, tn, fn: 0.037815126050420166 0.9621848739495799 0.2647058823529412 0.7352941176470589\n",
      "Avg accuracy, precision, recall: 0.8731617647058824 0.9600840336134454 0.9013806706114399\n",
      "fp, tp, tn, fn: 0.03991596638655462 0.9600840336134454 0.2647058823529412 0.7352941176470589\n",
      "Avg accuracy, precision, recall: 0.8694852941176471 0.957983193277311 0.8994082840236687\n",
      "fp, tp, tn, fn: 0.04201680672268908 0.957983193277311 0.25 0.75\n"
     ]
    }
   ],
   "source": [
    "from sklearn.pipeline import make_pipeline\n",
    "from sklearn.preprocessing import StandardScaler, MinMaxScaler, Normalizer\n",
    "\n",
    "# high_prob_thresholds = [0.01, 0.001, 0.0001]\n",
    "# low_prob_thresholds = [0.000005, 0.000006, 0.000007, 0.000008, 0.00001]\n",
    "high_prob_thresholds = [0.001]\n",
    "low_prob_thresholds = [0.000005]\n",
    "# low_prob_thresholds = [0.00002, 0.000025, 0.00003]\n",
    "# kernels = ['knn', 'rbf']\n",
    "kernels = ['rbf']\n",
    "# gammas = [30, 25, 20, 15, 10, 5]\n",
    "# gammas = [25, 20, 15]\n",
    "gammas = [20]\n",
    "# n_neighbors = [10, 9, 8, 7, 6, 5, 4]\n",
    "# n_neighbors = [8, 7, 6]\n",
    "n_neighbors = [7]\n",
    "# alphas = [0.01, 0.2, 0.5, 0.8]\n",
    "alphas = [0.2, 0.5]\n",
    "\n",
    "res_columns = [\n",
    "    \"Positive Threshold\",\n",
    "    \"Negative Threshold\",\n",
    "    \"Num Positive Variants\",\n",
    "    \"Num Negative Variants\",\n",
    "    \"Num Unlabelled Variants\",\n",
    "    \"Pos/Neg ratio\",\n",
    "    \"Labelled/Unlabelled Ratio\",\n",
    "    \"Kernel\",\n",
    "    \"alpha\",\n",
    "    \"gamma\",\n",
    "    \"n_neighbors\",\n",
    "    \"Average Accuracy Score\",\n",
    "    \"Average Precision Score\",\n",
    "    \"Average Recall Score\",\n",
    "    \"Avg False Positives\",\n",
    "    \"Avg True Positives\",\n",
    "    \"Avg False Negatives\", \n",
    "    \"Average True Negatives\"\n",
    "]\n",
    "res = pandas.DataFrame(columns=res_columns)\n",
    "\n",
    "for prob_thresh_high in high_prob_thresholds:\n",
    "    for prob_thresh_low in low_prob_thresholds:\n",
    "        # Label points based on prob thresholds\n",
    "        print(\"high: \", prob_thresh_high, \"low\", prob_thresh_low, end=':')\n",
    "        print(\"Positive\", len(t1d_labels[t1d_labels > prob_thresh_high]), end='; ')\n",
    "        print(\"Negative\", len(t1d_labels[t1d_labels < prob_thresh_low]), end='; ')\n",
    "        print(\"Unlabelled\", len(t1d_labels[(t1d_labels <= prob_thresh_high) & (t1d_labels >= prob_thresh_low)]), end='; ')\n",
    "        print(\"\")\n",
    "        t1d_labels_thresh = t1d_labels.apply(lambda row: label_prob(row, prob_thresh_high, prob_thresh_low))\n",
    "        \n",
    "        # Data stats\n",
    "        num_pos = len(t1d_labels_thresh[t1d_labels_thresh == 1])\n",
    "        num_neg = len(t1d_labels_thresh[t1d_labels_thresh == 0])\n",
    "        num_unlabelled = len(t1d_labels_thresh[t1d_labels_thresh == -1])\n",
    "        pos_neg_ratio = num_pos / num_neg\n",
    "        label_ratio = (num_pos + num_neg) / num_unlabelled\n",
    "        \n",
    "        alphas += [prob_thresh_high]\n",
    "        for alpha in alphas:\n",
    "            for kernel in kernels:\n",
    "                models = []\n",
    "                if kernel == 'rbf':\n",
    "                    for gamma in gammas:\n",
    "                        model = LabelSpreading(kernel='rbf', alpha=alpha, gamma=gamma)\n",
    "                        norm_model = make_pipeline(MinMaxScaler(), model)\n",
    "                        acc, prec, rec, fp, tp, fn, tn = cv(norm_model, t1d_data, t1d_labels_thresh)\n",
    "                        res.loc[res.shape[0]] = [prob_thresh_high, prob_thresh_low, num_pos, num_neg, num_unlabelled, pos_neg_ratio, label_ratio, kernel, alpha, gamma, \"N/A\", acc, prec, rec, fp, tp, fn, tn]\n",
    "                elif kernel == 'knn':\n",
    "                    for neighbors in n_neighbors:\n",
    "                        model = LabelSpreading(kernel=\"knn\", alpha=alpha, n_neighbors=neighbors)\n",
    "                        norm_model = make_pipeline(Normalizer(), model)\n",
    "                        acc, prec, rec, fp, tp, fn, tn = cv(norm_model, t1d_data, t1d_labels_thresh)\n",
    "                        res.loc[res.shape[0]] = [prob_thresh_high, prob_thresh_low, num_pos, num_neg, num_unlabelled, pos_neg_ratio, label_ratio, kernel, alpha, \"N/A\", neighbors, acc, prec, rec, fp, tp, fn, tn]\n",
    "\n",
    "                else:\n",
    "                    print(\"Error; invalid kernel\")\n",
    "                    continue\n",
    "\n",
    "res.to_csv(\"./Results/test_tp_fp_acc.csv\")           "
   ]
  },
  {
   "cell_type": "code",
   "execution_count": 43,
   "metadata": {
    "scrolled": true
   },
   "outputs": [
    {
     "name": "stdout",
     "output_type": "stream",
     "text": [
      "[[ -6759.33899192 -10743.136265    10161.05226608  -1304.8012852\n",
      "    -479.3257097 ]\n",
      " [ -6762.41304351 -10737.86177824  10167.62264208  -1305.6679956\n",
      "    -470.29424286]\n",
      " [ -6510.53688799 -11208.01372634   9700.00032886  -1231.36814599\n",
      "     -92.48422542]\n",
      " ...\n",
      " [  9739.20867087   8579.13541843    528.29563872   -529.07715087\n",
      "   -1031.52022714]\n",
      " [  9740.06878706   8577.73177163    526.32778368   -528.35154777\n",
      "   -1034.27356135]\n",
      " [  9633.07625187   8642.12669551    628.62543513   -627.64055969\n",
      "    -900.55930358]]\n"
     ]
    },
    {
     "ename": "AttributeError",
     "evalue": "'numpy.ndarray' object has no attribute 'insert'",
     "output_type": "error",
     "traceback": [
      "\u001b[0;31m---------------------------------------------------------------------------\u001b[0m",
      "\u001b[0;31mAttributeError\u001b[0m                            Traceback (most recent call last)",
      "\u001b[0;32m<ipython-input-43-f2b5e898b558>\u001b[0m in \u001b[0;36m<module>\u001b[0;34m\u001b[0m\n\u001b[1;32m     18\u001b[0m \u001b[0mmodel\u001b[0m \u001b[0;34m=\u001b[0m \u001b[0mLabelSpreading\u001b[0m\u001b[0;34m(\u001b[0m\u001b[0mkernel\u001b[0m\u001b[0;34m=\u001b[0m\u001b[0;34m'rbf'\u001b[0m\u001b[0;34m,\u001b[0m \u001b[0malpha\u001b[0m\u001b[0;34m=\u001b[0m\u001b[0;36m0.2\u001b[0m\u001b[0;34m,\u001b[0m \u001b[0mgamma\u001b[0m\u001b[0;34m=\u001b[0m\u001b[0;36m20\u001b[0m\u001b[0;34m)\u001b[0m\u001b[0;34m\u001b[0m\u001b[0;34m\u001b[0m\u001b[0m\n\u001b[1;32m     19\u001b[0m \u001b[0mnorm_model\u001b[0m \u001b[0;34m=\u001b[0m \u001b[0mmake_pipeline\u001b[0m\u001b[0;34m(\u001b[0m\u001b[0mMinMaxScaler\u001b[0m\u001b[0;34m(\u001b[0m\u001b[0;34m)\u001b[0m\u001b[0;34m,\u001b[0m \u001b[0mmodel\u001b[0m\u001b[0;34m)\u001b[0m\u001b[0;34m\u001b[0m\u001b[0;34m\u001b[0m\u001b[0m\n\u001b[0;32m---> 20\u001b[0;31m \u001b[0mscore\u001b[0m \u001b[0;34m=\u001b[0m \u001b[0mperform_cv\u001b[0m\u001b[0;34m(\u001b[0m\u001b[0mnorm_model\u001b[0m\u001b[0;34m,\u001b[0m \u001b[0mt1d_data_pca\u001b[0m\u001b[0;34m,\u001b[0m \u001b[0mt1d_labels_thresh\u001b[0m\u001b[0;34m)\u001b[0m\u001b[0;34m\u001b[0m\u001b[0;34m\u001b[0m\u001b[0m\n\u001b[0m\u001b[1;32m     21\u001b[0m \u001b[0mprint\u001b[0m\u001b[0;34m(\u001b[0m\u001b[0;34m\"rbf score\"\u001b[0m\u001b[0;34m,\u001b[0m \u001b[0mscore\u001b[0m\u001b[0;34m)\u001b[0m\u001b[0;34m\u001b[0m\u001b[0;34m\u001b[0m\u001b[0m\n\u001b[1;32m     22\u001b[0m \u001b[0;34m\u001b[0m\u001b[0m\n",
      "\u001b[0;32m<ipython-input-41-c3441e6930ae>\u001b[0m in \u001b[0;36mperform_cv\u001b[0;34m(model, data, labels)\u001b[0m\n\u001b[1;32m     38\u001b[0m \u001b[0;34m\u001b[0m\u001b[0m\n\u001b[1;32m     39\u001b[0m \u001b[0;32mdef\u001b[0m \u001b[0mperform_cv\u001b[0m\u001b[0;34m(\u001b[0m\u001b[0mmodel\u001b[0m\u001b[0;34m,\u001b[0m \u001b[0mdata\u001b[0m\u001b[0;34m,\u001b[0m \u001b[0mlabels\u001b[0m\u001b[0;34m)\u001b[0m\u001b[0;34m:\u001b[0m\u001b[0;34m\u001b[0m\u001b[0;34m\u001b[0m\u001b[0m\n\u001b[0;32m---> 40\u001b[0;31m     \u001b[0mall_known_data\u001b[0m\u001b[0;34m,\u001b[0m \u001b[0munknown_data\u001b[0m\u001b[0;34m,\u001b[0m \u001b[0mknown_data\u001b[0m\u001b[0;34m,\u001b[0m \u001b[0mknown_labels\u001b[0m\u001b[0;34m,\u001b[0m \u001b[0munknown_data\u001b[0m\u001b[0;34m,\u001b[0m \u001b[0munknown_labels\u001b[0m \u001b[0;34m=\u001b[0m \u001b[0msort_data\u001b[0m\u001b[0;34m(\u001b[0m\u001b[0mdata\u001b[0m\u001b[0;34m,\u001b[0m \u001b[0mlabels\u001b[0m\u001b[0;34m)\u001b[0m\u001b[0;34m\u001b[0m\u001b[0;34m\u001b[0m\u001b[0m\n\u001b[0m\u001b[1;32m     41\u001b[0m     \u001b[0msplits\u001b[0m\u001b[0;34m,\u001b[0m \u001b[0mcustom_splitter\u001b[0m \u001b[0;34m=\u001b[0m \u001b[0mcreate_splitter\u001b[0m\u001b[0;34m(\u001b[0m\u001b[0mall_known_data\u001b[0m\u001b[0;34m,\u001b[0m \u001b[0munknown_data\u001b[0m\u001b[0;34m)\u001b[0m\u001b[0;34m\u001b[0m\u001b[0;34m\u001b[0m\u001b[0m\n\u001b[1;32m     42\u001b[0m     \u001b[0mcv_score\u001b[0m \u001b[0;34m=\u001b[0m \u001b[0mcross_val_score\u001b[0m\u001b[0;34m(\u001b[0m\u001b[0mmodel\u001b[0m\u001b[0;34m,\u001b[0m \u001b[0mdata\u001b[0m\u001b[0;34m,\u001b[0m \u001b[0my\u001b[0m\u001b[0;34m=\u001b[0m\u001b[0mlabels\u001b[0m\u001b[0;34m,\u001b[0m \u001b[0mcv\u001b[0m\u001b[0;34m=\u001b[0m\u001b[0mcustom_splitter\u001b[0m\u001b[0;34m(\u001b[0m\u001b[0msplits\u001b[0m\u001b[0;34m)\u001b[0m\u001b[0;34m,\u001b[0m \u001b[0mverbose\u001b[0m\u001b[0;34m=\u001b[0m\u001b[0;36m1\u001b[0m\u001b[0;34m,\u001b[0m \u001b[0mn_jobs\u001b[0m\u001b[0;34m=\u001b[0m\u001b[0;36m1\u001b[0m\u001b[0;34m)\u001b[0m\u001b[0;34m\u001b[0m\u001b[0;34m\u001b[0m\u001b[0m\n",
      "\u001b[0;32m<ipython-input-41-c3441e6930ae>\u001b[0m in \u001b[0;36msort_data\u001b[0;34m(data, labels)\u001b[0m\n\u001b[1;32m     13\u001b[0m \u001b[0;31m#     all_data = data.copy(deep=True)\u001b[0m\u001b[0;34m\u001b[0m\u001b[0;34m\u001b[0m\u001b[0;34m\u001b[0m\u001b[0m\n\u001b[1;32m     14\u001b[0m     \u001b[0mall_data\u001b[0m \u001b[0;34m=\u001b[0m \u001b[0mdata\u001b[0m\u001b[0;34m.\u001b[0m\u001b[0mcopy\u001b[0m\u001b[0;34m(\u001b[0m\u001b[0;34m)\u001b[0m\u001b[0;34m\u001b[0m\u001b[0;34m\u001b[0m\u001b[0m\n\u001b[0;32m---> 15\u001b[0;31m     \u001b[0mall_data\u001b[0m\u001b[0;34m.\u001b[0m\u001b[0minsert\u001b[0m\u001b[0;34m(\u001b[0m\u001b[0mlen\u001b[0m\u001b[0;34m(\u001b[0m\u001b[0mall_data\u001b[0m\u001b[0;34m.\u001b[0m\u001b[0mcolumns\u001b[0m\u001b[0;34m)\u001b[0m\u001b[0;34m,\u001b[0m \u001b[0;34m'label'\u001b[0m\u001b[0;34m,\u001b[0m \u001b[0mlabels\u001b[0m\u001b[0;34m)\u001b[0m\u001b[0;34m\u001b[0m\u001b[0;34m\u001b[0m\u001b[0m\n\u001b[0m\u001b[1;32m     16\u001b[0m     \u001b[0mall_data\u001b[0m\u001b[0;34m.\u001b[0m\u001b[0minsert\u001b[0m\u001b[0;34m(\u001b[0m\u001b[0mlen\u001b[0m\u001b[0;34m(\u001b[0m\u001b[0mall_data\u001b[0m\u001b[0;34m.\u001b[0m\u001b[0mcolumns\u001b[0m\u001b[0;34m)\u001b[0m\u001b[0;34m,\u001b[0m \u001b[0;34m'known'\u001b[0m\u001b[0;34m,\u001b[0m \u001b[0mknown_data_bool\u001b[0m\u001b[0;34m)\u001b[0m\u001b[0;34m\u001b[0m\u001b[0;34m\u001b[0m\u001b[0m\n\u001b[1;32m     17\u001b[0m     \u001b[0mall_known_data\u001b[0m \u001b[0;34m=\u001b[0m \u001b[0mall_data\u001b[0m\u001b[0;34m[\u001b[0m\u001b[0mall_data\u001b[0m\u001b[0;34m.\u001b[0m\u001b[0mknown\u001b[0m \u001b[0;34m==\u001b[0m \u001b[0;32mTrue\u001b[0m\u001b[0;34m]\u001b[0m\u001b[0;34m\u001b[0m\u001b[0;34m\u001b[0m\u001b[0m\n",
      "\u001b[0;31mAttributeError\u001b[0m: 'numpy.ndarray' object has no attribute 'insert'"
     ]
    }
   ],
   "source": [
    "from sklearn.pipeline import make_pipeline\n",
    "from sklearn.preprocessing import StandardScaler, MinMaxScaler, Normalizer\n",
    "\n",
    "kernels = ['knn', 'rbf']\n",
    "# gammas = [30, 25, 20, 15, 10, 5]\n",
    "gammas = [25, 20, 15]\n",
    "# n_neighbors = [10, 9, 8, 7, 6, 5, 4]\n",
    "n_neighbors = [8, 7, 6]\n",
    "# alphas = [0.01, 0.2, 0.5, 0.8]\n",
    "alphas = [0.2, 0.5]\n",
    "\n",
    "hthresh = 0.01\n",
    "lthresh = 0.000007\n",
    "pca_model = PCA(n_components = 5)\n",
    "t1d_data_pca = pca_model.fit_transform(t1d_data)\n",
    "\n",
    "model = LabelSpreading(kernel='rbf', alpha=0.2, gamma=20)\n",
    "norm_model = make_pipeline(MinMaxScaler(), model)\n",
    "score = perform_cv(norm_model, t1d_data_pca, t1d_labels_thresh)\n",
    "print(\"rbf score\", score)\n",
    "\n",
    "model = LabelSpreading(kernel=\"knn\", alpha=0.2, n_neighbors=8)\n",
    "norm_model = make_pipeline(Normalizer(), model)\n",
    "score = perform_cv(norm_model, t1d_data_pca, t1d_labels_thresh)\n",
    "print('knn score', score)"
   ]
  },
  {
   "cell_type": "code",
   "execution_count": 3,
   "metadata": {},
   "outputs": [],
   "source": [
    "t1d_res = pandas.read_csv('./Results/label_spreading_res_normalized_fixed_cv.csv')\n",
    "t2d_res = pandas.read_csv('./Results/t2d_normalized_label_spreading.csv')"
   ]
  },
  {
   "cell_type": "code",
   "execution_count": 9,
   "metadata": {},
   "outputs": [
    {
     "data": {
      "text/plain": [
       "[<matplotlib.lines.Line2D at 0x7f5b338e0050>]"
      ]
     },
     "execution_count": 9,
     "metadata": {},
     "output_type": "execute_result"
    },
    {
     "data": {
      "image/png": "[encoded data removed]",
      "text/plain": [
       "<Figure size 432x288 with 1 Axes>"
      ]
     },
     "metadata": {
      "needs_background": "light"
     },
     "output_type": "display_data"
    }
   ],
   "source": [
    "x = t1d_res[\"Labelled/Unlabelled Ratio\"]\n",
    "y = t1d_res['Average Accuracy Score']\n",
    "\n",
    "zipped = zip(x, y)\n",
    "sortedlist = sorted(zipped)\n",
    "\n",
    "tuples = zip(*sortedlist)\n",
    "x, y = [list(tuple) for tuple in tuples]\n",
    "\n",
    "plt.plot(x, y, label='label/unlabel ratio')"
   ]
  },
  {
   "cell_type": "code",
   "execution_count": 10,
   "metadata": {},
   "outputs": [
    {
     "data": {
      "text/plain": [
       "[<matplotlib.lines.Line2D at 0x7f5b3385c0d0>]"
      ]
     },
     "execution_count": 10,
     "metadata": {},
     "output_type": "execute_result"
    },
    {
     "data": {
      "image/png": "[encoded data removed]",
      "text/plain": [
       "<Figure size 432x288 with 1 Axes>"
      ]
     },
     "metadata": {
      "needs_background": "light"
     },
     "output_type": "display_data"
    }
   ],
   "source": [
    "x = t2d_res[\"Labelled/Unlabelled Ratio\"]\n",
    "y = t2d_res['Average Accuracy Score']\n",
    "\n",
    "zipped = zip(x, y)\n",
    "sortedlist = sorted(zipped)\n",
    "\n",
    "tuples = zip(*sortedlist)\n",
    "x, y = [list(tuple) for tuple in tuples]\n",
    "\n",
    "plt.plot(x, y, label='label/unlabel ratio')"
   ]
  },
  {
   "cell_type": "code",
   "execution_count": 12,
   "metadata": {},
   "outputs": [
    {
     "data": {
      "text/plain": [
       "[<matplotlib.lines.Line2D at 0x7f5b2f79e290>]"
      ]
     },
     "execution_count": 12,
     "metadata": {},
     "output_type": "execute_result"
    },
    {
     "data": {
      "image/png": "[encoded data removed]",
      "text/plain": [
       "<Figure size 432x288 with 1 Axes>"
      ]
     },
     "metadata": {
      "needs_background": "light"
     },
     "output_type": "display_data"
    }
   ],
   "source": [
    "x = t1d_res[\"Pos/Neg ratio\"]\n",
    "y = t1d_res['Average Accuracy Score']\n",
    "\n",
    "zipped = zip(x, y)\n",
    "sortedlist = sorted(zipped)\n",
    "\n",
    "tuples = zip(*sortedlist)\n",
    "x, y = [list(tuple) for tuple in tuples]\n",
    "\n",
    "plt.plot(x, y, label='label/unlabel ratio')"
   ]
  },
  {
   "cell_type": "code",
   "execution_count": 13,
   "metadata": {},
   "outputs": [
    {
     "data": {
      "text/plain": [
       "[<matplotlib.lines.Line2D at 0x7f5b2f777f90>]"
      ]
     },
     "execution_count": 13,
     "metadata": {},
     "output_type": "execute_result"
    },
    {
     "data": {
      "image/png": "[encoded data removed]",
      "text/plain": [
       "<Figure size 432x288 with 1 Axes>"
      ]
     },
     "metadata": {
      "needs_background": "light"
     },
     "output_type": "display_data"
    }
   ],
   "source": [
    "x = t2d_res[\"Pos/Neg ratio\"]\n",
    "y = t2d_res['Average Accuracy Score']\n",
    "\n",
    "zipped = zip(x, y)\n",
    "sortedlist = sorted(zipped)\n",
    "\n",
    "tuples = zip(*sortedlist)\n",
    "x, y = [list(tuple) for tuple in tuples]\n",
    "\n",
    "plt.plot(x, y, label='label/unlabel ratio')"
   ]
  },
  {
   "cell_type": "code",
   "execution_count": 3,
   "metadata": {},
   "outputs": [],
   "source": [
    "t1d_res = pandas.read_csv('./Results/t1d_ls_precision_accuracy_filtered.csv')"
   ]
  },
  {
   "cell_type": "code",
   "execution_count": 14,
   "metadata": {},
   "outputs": [
    {
     "data": {
      "text/plain": [
       "<matplotlib.legend.Legend at 0x7f6bcbc98f50>"
      ]
     },
     "execution_count": 14,
     "metadata": {},
     "output_type": "execute_result"
    },
    {
     "data": {
      "image/png": "[encoded data removed]",
      "text/plain": [
       "<Figure size 432x288 with 1 Axes>"
      ]
     },
     "metadata": {
      "needs_background": "light"
     },
     "output_type": "display_data"
    }
   ],
   "source": [
    "x = t1d_res[\"Pos/Neg ratio\"]\n",
    "x2 = t1d_res[\"Pos/Neg ratio\"]\n",
    "x3 = t1d_res[\"Pos/Neg ratio\"]\n",
    "y = t1d_res['Average Accuracy Score']\n",
    "y2 = t1d_res['Average Precision Score']\n",
    "y3 = t1d_res['Average Recall Score']\n",
    "\n",
    "zipped = zip(x, y)\n",
    "sortedlist = sorted(zipped)\n",
    "\n",
    "tuples = zip(*sortedlist)\n",
    "x, y = [list(tuple) for tuple in tuples]\n",
    "\n",
    "zipped = zip(x2, y2)\n",
    "sortedlist = sorted(zipped)\n",
    "\n",
    "tuples = zip(*sortedlist)\n",
    "x2, y2 = [list(tuple) for tuple in tuples]\n",
    "\n",
    "zipped = zip(x3, y3)\n",
    "sortedlist = sorted(zipped)\n",
    "\n",
    "tuples = zip(*sortedlist)\n",
    "x3, y3 = [list(tuple) for tuple in tuples]\n",
    "\n",
    "plt.plot(x, y, label='Accuracy')\n",
    "plt.plot(x2, y2, label='Precision')\n",
    "plt.plot(x3, y3, label='Recall')\n",
    "plt.title(\"Positive to Negative Ratio Effect on Score\")\n",
    "plt.xlabel(\"Pos/Neg Ratio\")\n",
    "plt.ylabel(\"Score\")\n",
    "plt.legend()"
   ]
  },
  {
   "cell_type": "code",
   "execution_count": 15,
   "metadata": {},
   "outputs": [
    {
     "data": {
      "text/plain": [
       "<matplotlib.legend.Legend at 0x7f6bcbc309d0>"
      ]
     },
     "execution_count": 15,
     "metadata": {},
     "output_type": "execute_result"
    },
    {
     "data": {
      "image/png": "[encoded data removed]",
      "text/plain": [
       "<Figure size 432x288 with 1 Axes>"
      ]
     },
     "metadata": {
      "needs_background": "light"
     },
     "output_type": "display_data"
    }
   ],
   "source": [
    "x = t1d_res[\"Labelled/Unlabelled Ratio\"]\n",
    "x2 = t1d_res[\"Labelled/Unlabelled Ratio\"]\n",
    "x3 = t1d_res[\"Labelled/Unlabelled Ratio\"]\n",
    "y = t1d_res['Average Accuracy Score']\n",
    "y2 = t1d_res['Average Precision Score']\n",
    "y3 = t1d_res['Average Recall Score']\n",
    "\n",
    "zipped = zip(x, y)\n",
    "sortedlist = sorted(zipped)\n",
    "\n",
    "tuples = zip(*sortedlist)\n",
    "x, y = [list(tuple) for tuple in tuples]\n",
    "\n",
    "zipped = zip(x2, y2)\n",
    "sortedlist = sorted(zipped)\n",
    "\n",
    "tuples = zip(*sortedlist)\n",
    "x2, y2 = [list(tuple) for tuple in tuples]\n",
    "\n",
    "zipped = zip(x3, y3)\n",
    "sortedlist = sorted(zipped)\n",
    "\n",
    "tuples = zip(*sortedlist)\n",
    "x3, y3 = [list(tuple) for tuple in tuples]\n",
    "\n",
    "plt.plot(x, y, label='Accuracy')\n",
    "plt.plot(x2, y2, label='Precision')\n",
    "plt.plot(x3, y3, label='Recall')\n",
    "plt.title(\"Labelled to Unlabelled Ratio Effect on Score\")\n",
    "plt.xlabel(\"Labelled/Unlabelled Ratio\")\n",
    "plt.ylabel(\"Score\")\n",
    "plt.legend()"
   ]
  },
  {
   "cell_type": "code",
   "execution_count": 6,
   "metadata": {},
   "outputs": [],
   "source": [
    "t1d_res = pandas.read_csv('./Results/t1d_ls_precision_accuracy_filtered_tp_fp.csv')"
   ]
  },
  {
   "cell_type": "code",
   "execution_count": 4,
   "metadata": {},
   "outputs": [
    {
     "data": {
      "text/plain": [
       "<matplotlib.legend.Legend at 0x7fadfeb011d0>"
      ]
     },
     "execution_count": 4,
     "metadata": {},
     "output_type": "execute_result"
    },
    {
     "data": {
      "image/png": "[encoded data removed]",
      "text/plain": [
       "<Figure size 432x288 with 1 Axes>"
      ]
     },
     "metadata": {
      "needs_background": "light"
     },
     "output_type": "display_data"
    }
   ],
   "source": [
    "x = t1d_res[\"Pos/Neg ratio\"]\n",
    "x2 = t1d_res[\"Pos/Neg ratio\"]\n",
    "x3 = t1d_res[\"Pos/Neg ratio\"]\n",
    "x4 = t1d_res[\"Pos/Neg ratio\"]\n",
    "y = t1d_res['Avg False Positives']\n",
    "y2 = t1d_res['Avg True Positives']\n",
    "y3 = t1d_res['Avg False Negatives']\n",
    "y4 = t1d_res['Average True Negatives']\n",
    "\n",
    "zipped = zip(x, y)\n",
    "sortedlist = sorted(zipped)\n",
    "\n",
    "tuples = zip(*sortedlist)\n",
    "x, y = [list(tuple) for tuple in tuples]\n",
    "\n",
    "zipped = zip(x2, y2)\n",
    "sortedlist = sorted(zipped)\n",
    "\n",
    "tuples = zip(*sortedlist)\n",
    "x2, y2 = [list(tuple) for tuple in tuples]\n",
    "\n",
    "zipped = zip(x3, y3)\n",
    "sortedlist = sorted(zipped)\n",
    "\n",
    "tuples = zip(*sortedlist)\n",
    "x3, y3 = [list(tuple) for tuple in tuples]\n",
    "\n",
    "zipped = zip(x4, y4)\n",
    "sortedlist = sorted(zipped)\n",
    "\n",
    "tuples = zip(*sortedlist)\n",
    "x4, y4 = [list(tuple) for tuple in tuples]\n",
    "\n",
    "plt.plot(x, y, label='False Positives')\n",
    "plt.plot(x2, y2, label='True Positives')\n",
    "plt.plot(x3, y3, label='False Negatives')\n",
    "plt.plot(x4, y4, label='True Negatives')\n",
    "plt.title(\"Positive to Negative Ratio Effect on Score\")\n",
    "plt.xlabel(\"Pos/Neg Ratio\")\n",
    "plt.ylabel(\"Score\")\n",
    "plt.legend()"
   ]
  },
  {
   "cell_type": "code",
   "execution_count": 5,
   "metadata": {},
   "outputs": [
    {
     "data": {
      "text/plain": [
       "<matplotlib.legend.Legend at 0x7fadfc9b5c90>"
      ]
     },
     "execution_count": 5,
     "metadata": {},
     "output_type": "execute_result"
    },
    {
     "data": {
      "image/png": "[encoded data removed]",
      "text/plain": [
       "<Figure size 432x288 with 1 Axes>"
      ]
     },
     "metadata": {
      "needs_background": "light"
     },
     "output_type": "display_data"
    }
   ],
   "source": [
    "x = t1d_res[\"Labelled/Unlabelled Ratio\"]\n",
    "x2 = t1d_res[\"Labelled/Unlabelled Ratio\"]\n",
    "x3 = t1d_res[\"Labelled/Unlabelled Ratio\"]\n",
    "x4 = t1d_res[\"Labelled/Unlabelled Ratio\"]\n",
    "y = t1d_res['Avg False Positives']\n",
    "y2 = t1d_res['Avg True Positives']\n",
    "y3 = t1d_res['Avg False Negatives']\n",
    "y4 = t1d_res['Average True Negatives']\n",
    "\n",
    "zipped = zip(x, y)\n",
    "sortedlist = sorted(zipped)\n",
    "\n",
    "tuples = zip(*sortedlist)\n",
    "x, y = [list(tuple) for tuple in tuples]\n",
    "\n",
    "zipped = zip(x2, y2)\n",
    "sortedlist = sorted(zipped)\n",
    "\n",
    "tuples = zip(*sortedlist)\n",
    "x2, y2 = [list(tuple) for tuple in tuples]\n",
    "\n",
    "zipped = zip(x3, y3)\n",
    "sortedlist = sorted(zipped)\n",
    "\n",
    "tuples = zip(*sortedlist)\n",
    "x3, y3 = [list(tuple) for tuple in tuples]\n",
    "\n",
    "zipped = zip(x4, y4)\n",
    "sortedlist = sorted(zipped)\n",
    "\n",
    "tuples = zip(*sortedlist)\n",
    "x4, y4 = [list(tuple) for tuple in tuples]\n",
    "\n",
    "plt.plot(x, y, label='False Positives')\n",
    "plt.plot(x2, y2, label='True Positives')\n",
    "plt.plot(x3, y3, label='False Negatives')\n",
    "plt.plot(x4, y4, label='True Negatives')\n",
    "plt.title(\"Labelled to Unlabelled Ratio Effect on Score\")\n",
    "plt.xlabel(\"Labelled/Unlabelled Ratio\")\n",
    "plt.ylabel(\"Score\")\n",
    "plt.legend()"
   ]
  },
  {
   "cell_type": "code",
   "execution_count": null,
   "metadata": {},
   "outputs": [],
   "source": [
    "from sklearn.pipeline import make_pipeline\n",
    "from sklearn.preprocessing import StandardScaler, MinMaxScaler, Normalizer\n",
    "\n",
    "high_prob_thresholds = [0.01, 0.001, 0.0001]\n",
    "low_prob_thresholds = [0.000005, 0.000006, 0.000007, 0.000008, 0.00001]\n",
    "# high_prob_thresholds = [0.01]\n",
    "# low_prob_thresholds = [0.000005, 0.000006, 0.000007]\n",
    "# low_prob_thresholds = [0.00002, 0.000025, 0.00003]\n",
    "# kernels = ['knn', 'rbf']\n",
    "kernels = ['rbf']\n",
    "# gammas = [30, 25, 20, 15, 10, 5]\n",
    "# gammas = [25, 20, 15]\n",
    "gammas = [20]\n",
    "# n_neighbors = [10, 9, 8, 7, 6, 5, 4]\n",
    "# n_neighbors = [8, 7, 6]\n",
    "n_neighbors = [7]\n",
    "# alphas = [0.01, 0.2, 0.5, 0.8]\n",
    "alphas = [0.2, 0.5]\n",
    "\n",
    "res_columns = [\n",
    "    \"Positive Threshold\",\n",
    "    \"Negative Threshold\",\n",
    "    \"Num Positive Variants\",\n",
    "    \"Num Negative Variants\",\n",
    "    \"Num Unlabelled Variants\",\n",
    "    \"Pos/Neg ratio\",\n",
    "    \"Labelled/Unlabelled Ratio\",\n",
    "    \"Kernel\",\n",
    "    \"alpha\",\n",
    "    \"gamma\",\n",
    "    \"n_neighbors\",\n",
    "    \"Average Accuracy Score\",\n",
    "    \"Average Precision Score\",\n",
    "    \"Average Recall Score\"\n",
    "]\n",
    "res = pandas.DataFrame(columns=res_columns)\n",
    "\n",
    "for prob_thresh_high in high_prob_thresholds:\n",
    "    for prob_thresh_low in low_prob_thresholds:\n",
    "        # Label points based on prob thresholds\n",
    "        print(\"high: \", prob_thresh_high, \"low\", prob_thresh_low, end=':')\n",
    "        print(\"Positive\", len(t1d_labels[t1d_labels > prob_thresh_high]), end='; ')\n",
    "        print(\"Negative\", len(t1d_labels[t1d_labels < prob_thresh_low]), end='; ')\n",
    "        print(\"Unlabelled\", len(t1d_labels[(t1d_labels <= prob_thresh_high) & (t1d_labels >= prob_thresh_low)]), end='; ')\n",
    "        print(\"\")\n",
    "        t1d_labels_thresh = t1d_labels.apply(lambda row: label_prob(row, prob_thresh_high, prob_thresh_low))\n",
    "        \n",
    "        # Data stats\n",
    "        num_pos = len(t1d_labels_thresh[t1d_labels_thresh == 1])\n",
    "        num_neg = len(t1d_labels_thresh[t1d_labels_thresh == 0])\n",
    "        num_unlabelled = len(t1d_labels_thresh[t1d_labels_thresh == -1])\n",
    "        pos_neg_ratio = num_pos / num_neg\n",
    "        label_ratio = (num_pos + num_neg) / num_unlabelled\n",
    "        \n",
    "        alphas += [1 - prob_thresh_high]\n",
    "        for alpha in alphas:\n",
    "            for kernel in kernels:\n",
    "                models = []\n",
    "                if kernel == 'rbf':\n",
    "                    for gamma in gammas:\n",
    "                        model = LabelSpreading(kernel='rbf', alpha=alpha, gamma=gamma)\n",
    "                        norm_model = make_pipeline(MinMaxScaler(), model)\n",
    "                        acc, prec, rec = cv(norm_model, t1d_data, t1d_labels_thresh)\n",
    "                        res.loc[res.shape[0]] = [prob_thresh_high, prob_thresh_low, num_pos, num_neg, num_unlabelled, pos_neg_ratio, label_ratio, kernel, alpha, gamma, \"N/A\", acc, prec, rec]\n",
    "                elif kernel == 'knn':\n",
    "                    for neighbors in n_neighbors:\n",
    "                        model = LabelSpreading(kernel=\"knn\", alpha=alpha, n_neighbors=neighbors)\n",
    "                        norm_model = make_pipeline(Normalizer(), model)\n",
    "                        acc, prec, rec = cv(norm_model, t1d_data, t1d_labels_thresh)\n",
    "                        res.loc[res.shape[0]] = [prob_thresh_high, prob_thresh_low, num_pos, num_neg, num_unlabelled, pos_neg_ratio, label_ratio, kernel, alpha, \"N/A\", neighbors, acc, prec, rec]\n",
    "\n",
    "                else:\n",
    "                    print(\"Error; invalid kernel\")\n",
    "                    continue\n",
    "\n",
    "res.to_csv(\"./Results/t1d_ls_precision_accuracy_filtered.csv\")           "
   ]
  },
  {
   "cell_type": "code",
   "execution_count": 8,
   "metadata": {},
   "outputs": [
    {
     "data": {
      "text/html": [
       "<div>\n",
       "<style scoped>\n",
       "    .dataframe tbody tr th:only-of-type {\n",
       "        vertical-align: middle;\n",
       "    }\n",
       "\n",
       "    .dataframe tbody tr th {\n",
       "        vertical-align: top;\n",
       "    }\n",
       "\n",
       "    .dataframe thead th {\n",
       "        text-align: right;\n",
       "    }\n",
       "</style>\n",
       "<table border=\"1\" class=\"dataframe\">\n",
       "  <thead>\n",
       "    <tr style=\"text-align: right;\">\n",
       "      <th></th>\n",
       "      <th>Unnamed: 0</th>\n",
       "      <th>Positive Threshold</th>\n",
       "      <th>Negative Threshold</th>\n",
       "      <th>Num Positive Variants</th>\n",
       "      <th>Num Negative Variants</th>\n",
       "      <th>Num Unlabelled Variants</th>\n",
       "      <th>Pos/Neg ratio</th>\n",
       "      <th>Labelled/Unlabelled Ratio</th>\n",
       "      <th>Kernel</th>\n",
       "      <th>alpha</th>\n",
       "      <th>gamma</th>\n",
       "      <th>n_neighbors</th>\n",
       "      <th>Average Accuracy Score</th>\n",
       "      <th>Average Precision Score</th>\n",
       "      <th>Average Recall Score</th>\n",
       "      <th>Avg False Positives</th>\n",
       "      <th>Avg True Positives</th>\n",
       "      <th>Avg False Negatives</th>\n",
       "      <th>Average True Negatives</th>\n",
       "    </tr>\n",
       "  </thead>\n",
       "  <tbody>\n",
       "    <tr>\n",
       "      <th>75</th>\n",
       "      <td>75</td>\n",
       "      <td>0.0001</td>\n",
       "      <td>0.000005</td>\n",
       "      <td>3542</td>\n",
       "      <td>246</td>\n",
       "      <td>8592</td>\n",
       "      <td>14.398374</td>\n",
       "      <td>0.440875</td>\n",
       "      <td>rbf</td>\n",
       "      <td>0.2000</td>\n",
       "      <td>20</td>\n",
       "      <td>NaN</td>\n",
       "      <td>0.926294</td>\n",
       "      <td>0.977300</td>\n",
       "      <td>0.946022</td>\n",
       "      <td>0.021331</td>\n",
       "      <td>0.917635</td>\n",
       "      <td>0.052376</td>\n",
       "      <td>0.008659</td>\n",
       "    </tr>\n",
       "    <tr>\n",
       "      <th>76</th>\n",
       "      <td>76</td>\n",
       "      <td>0.0001</td>\n",
       "      <td>0.000005</td>\n",
       "      <td>3542</td>\n",
       "      <td>246</td>\n",
       "      <td>8592</td>\n",
       "      <td>14.398374</td>\n",
       "      <td>0.440875</td>\n",
       "      <td>rbf</td>\n",
       "      <td>0.5000</td>\n",
       "      <td>20</td>\n",
       "      <td>NaN</td>\n",
       "      <td>0.926927</td>\n",
       "      <td>0.978200</td>\n",
       "      <td>0.945864</td>\n",
       "      <td>0.020486</td>\n",
       "      <td>0.918479</td>\n",
       "      <td>0.052587</td>\n",
       "      <td>0.008448</td>\n",
       "    </tr>\n",
       "    <tr>\n",
       "      <th>77</th>\n",
       "      <td>77</td>\n",
       "      <td>0.0001</td>\n",
       "      <td>0.000005</td>\n",
       "      <td>3542</td>\n",
       "      <td>246</td>\n",
       "      <td>8592</td>\n",
       "      <td>14.398374</td>\n",
       "      <td>0.440875</td>\n",
       "      <td>rbf</td>\n",
       "      <td>0.9900</td>\n",
       "      <td>20</td>\n",
       "      <td>NaN</td>\n",
       "      <td>0.926927</td>\n",
       "      <td>0.978423</td>\n",
       "      <td>0.945668</td>\n",
       "      <td>0.020275</td>\n",
       "      <td>0.918691</td>\n",
       "      <td>0.052798</td>\n",
       "      <td>0.008237</td>\n",
       "    </tr>\n",
       "    <tr>\n",
       "      <th>78</th>\n",
       "      <td>78</td>\n",
       "      <td>0.0001</td>\n",
       "      <td>0.000005</td>\n",
       "      <td>3542</td>\n",
       "      <td>246</td>\n",
       "      <td>8592</td>\n",
       "      <td>14.398374</td>\n",
       "      <td>0.440875</td>\n",
       "      <td>rbf</td>\n",
       "      <td>0.9900</td>\n",
       "      <td>20</td>\n",
       "      <td>NaN</td>\n",
       "      <td>0.926927</td>\n",
       "      <td>0.978423</td>\n",
       "      <td>0.945668</td>\n",
       "      <td>0.020275</td>\n",
       "      <td>0.918691</td>\n",
       "      <td>0.052798</td>\n",
       "      <td>0.008237</td>\n",
       "    </tr>\n",
       "    <tr>\n",
       "      <th>79</th>\n",
       "      <td>79</td>\n",
       "      <td>0.0001</td>\n",
       "      <td>0.000005</td>\n",
       "      <td>3542</td>\n",
       "      <td>246</td>\n",
       "      <td>8592</td>\n",
       "      <td>14.398374</td>\n",
       "      <td>0.440875</td>\n",
       "      <td>rbf</td>\n",
       "      <td>0.9900</td>\n",
       "      <td>20</td>\n",
       "      <td>NaN</td>\n",
       "      <td>0.926927</td>\n",
       "      <td>0.978423</td>\n",
       "      <td>0.945668</td>\n",
       "      <td>0.020275</td>\n",
       "      <td>0.918691</td>\n",
       "      <td>0.052798</td>\n",
       "      <td>0.008237</td>\n",
       "    </tr>\n",
       "    <tr>\n",
       "      <th>80</th>\n",
       "      <td>80</td>\n",
       "      <td>0.0001</td>\n",
       "      <td>0.000005</td>\n",
       "      <td>3542</td>\n",
       "      <td>246</td>\n",
       "      <td>8592</td>\n",
       "      <td>14.398374</td>\n",
       "      <td>0.440875</td>\n",
       "      <td>rbf</td>\n",
       "      <td>0.9900</td>\n",
       "      <td>20</td>\n",
       "      <td>NaN</td>\n",
       "      <td>0.926927</td>\n",
       "      <td>0.978423</td>\n",
       "      <td>0.945668</td>\n",
       "      <td>0.020275</td>\n",
       "      <td>0.918691</td>\n",
       "      <td>0.052798</td>\n",
       "      <td>0.008237</td>\n",
       "    </tr>\n",
       "    <tr>\n",
       "      <th>81</th>\n",
       "      <td>81</td>\n",
       "      <td>0.0001</td>\n",
       "      <td>0.000005</td>\n",
       "      <td>3542</td>\n",
       "      <td>246</td>\n",
       "      <td>8592</td>\n",
       "      <td>14.398374</td>\n",
       "      <td>0.440875</td>\n",
       "      <td>rbf</td>\n",
       "      <td>0.9900</td>\n",
       "      <td>20</td>\n",
       "      <td>NaN</td>\n",
       "      <td>0.926927</td>\n",
       "      <td>0.978423</td>\n",
       "      <td>0.945668</td>\n",
       "      <td>0.020275</td>\n",
       "      <td>0.918691</td>\n",
       "      <td>0.052798</td>\n",
       "      <td>0.008237</td>\n",
       "    </tr>\n",
       "    <tr>\n",
       "      <th>82</th>\n",
       "      <td>82</td>\n",
       "      <td>0.0001</td>\n",
       "      <td>0.000005</td>\n",
       "      <td>3542</td>\n",
       "      <td>246</td>\n",
       "      <td>8592</td>\n",
       "      <td>14.398374</td>\n",
       "      <td>0.440875</td>\n",
       "      <td>rbf</td>\n",
       "      <td>0.9990</td>\n",
       "      <td>20</td>\n",
       "      <td>NaN</td>\n",
       "      <td>0.927138</td>\n",
       "      <td>0.978648</td>\n",
       "      <td>0.945680</td>\n",
       "      <td>0.020063</td>\n",
       "      <td>0.918902</td>\n",
       "      <td>0.052798</td>\n",
       "      <td>0.008237</td>\n",
       "    </tr>\n",
       "    <tr>\n",
       "      <th>83</th>\n",
       "      <td>83</td>\n",
       "      <td>0.0001</td>\n",
       "      <td>0.000005</td>\n",
       "      <td>3542</td>\n",
       "      <td>246</td>\n",
       "      <td>8592</td>\n",
       "      <td>14.398374</td>\n",
       "      <td>0.440875</td>\n",
       "      <td>rbf</td>\n",
       "      <td>0.9990</td>\n",
       "      <td>20</td>\n",
       "      <td>NaN</td>\n",
       "      <td>0.927138</td>\n",
       "      <td>0.978648</td>\n",
       "      <td>0.945680</td>\n",
       "      <td>0.020063</td>\n",
       "      <td>0.918902</td>\n",
       "      <td>0.052798</td>\n",
       "      <td>0.008237</td>\n",
       "    </tr>\n",
       "    <tr>\n",
       "      <th>84</th>\n",
       "      <td>84</td>\n",
       "      <td>0.0001</td>\n",
       "      <td>0.000005</td>\n",
       "      <td>3542</td>\n",
       "      <td>246</td>\n",
       "      <td>8592</td>\n",
       "      <td>14.398374</td>\n",
       "      <td>0.440875</td>\n",
       "      <td>rbf</td>\n",
       "      <td>0.9990</td>\n",
       "      <td>20</td>\n",
       "      <td>NaN</td>\n",
       "      <td>0.927138</td>\n",
       "      <td>0.978648</td>\n",
       "      <td>0.945680</td>\n",
       "      <td>0.020063</td>\n",
       "      <td>0.918902</td>\n",
       "      <td>0.052798</td>\n",
       "      <td>0.008237</td>\n",
       "    </tr>\n",
       "    <tr>\n",
       "      <th>85</th>\n",
       "      <td>85</td>\n",
       "      <td>0.0001</td>\n",
       "      <td>0.000005</td>\n",
       "      <td>3542</td>\n",
       "      <td>246</td>\n",
       "      <td>8592</td>\n",
       "      <td>14.398374</td>\n",
       "      <td>0.440875</td>\n",
       "      <td>rbf</td>\n",
       "      <td>0.9990</td>\n",
       "      <td>20</td>\n",
       "      <td>NaN</td>\n",
       "      <td>0.927138</td>\n",
       "      <td>0.978648</td>\n",
       "      <td>0.945680</td>\n",
       "      <td>0.020063</td>\n",
       "      <td>0.918902</td>\n",
       "      <td>0.052798</td>\n",
       "      <td>0.008237</td>\n",
       "    </tr>\n",
       "    <tr>\n",
       "      <th>86</th>\n",
       "      <td>86</td>\n",
       "      <td>0.0001</td>\n",
       "      <td>0.000005</td>\n",
       "      <td>3542</td>\n",
       "      <td>246</td>\n",
       "      <td>8592</td>\n",
       "      <td>14.398374</td>\n",
       "      <td>0.440875</td>\n",
       "      <td>rbf</td>\n",
       "      <td>0.9990</td>\n",
       "      <td>20</td>\n",
       "      <td>NaN</td>\n",
       "      <td>0.927138</td>\n",
       "      <td>0.978648</td>\n",
       "      <td>0.945680</td>\n",
       "      <td>0.020063</td>\n",
       "      <td>0.918902</td>\n",
       "      <td>0.052798</td>\n",
       "      <td>0.008237</td>\n",
       "    </tr>\n",
       "    <tr>\n",
       "      <th>87</th>\n",
       "      <td>87</td>\n",
       "      <td>0.0001</td>\n",
       "      <td>0.000005</td>\n",
       "      <td>3542</td>\n",
       "      <td>246</td>\n",
       "      <td>8592</td>\n",
       "      <td>14.398374</td>\n",
       "      <td>0.440875</td>\n",
       "      <td>rbf</td>\n",
       "      <td>0.9999</td>\n",
       "      <td>20</td>\n",
       "      <td>NaN</td>\n",
       "      <td>0.927350</td>\n",
       "      <td>0.979323</td>\n",
       "      <td>0.945302</td>\n",
       "      <td>0.019430</td>\n",
       "      <td>0.919535</td>\n",
       "      <td>0.053221</td>\n",
       "      <td>0.007814</td>\n",
       "    </tr>\n",
       "  </tbody>\n",
       "</table>\n",
       "</div>"
      ],
      "text/plain": [
       "    Unnamed: 0  Positive Threshold  Negative Threshold  Num Positive Variants  \\\n",
       "75          75              0.0001            0.000005                   3542   \n",
       "76          76              0.0001            0.000005                   3542   \n",
       "77          77              0.0001            0.000005                   3542   \n",
       "78          78              0.0001            0.000005                   3542   \n",
       "79          79              0.0001            0.000005                   3542   \n",
       "80          80              0.0001            0.000005                   3542   \n",
       "81          81              0.0001            0.000005                   3542   \n",
       "82          82              0.0001            0.000005                   3542   \n",
       "83          83              0.0001            0.000005                   3542   \n",
       "84          84              0.0001            0.000005                   3542   \n",
       "85          85              0.0001            0.000005                   3542   \n",
       "86          86              0.0001            0.000005                   3542   \n",
       "87          87              0.0001            0.000005                   3542   \n",
       "\n",
       "    Num Negative Variants  Num Unlabelled Variants  Pos/Neg ratio  \\\n",
       "75                    246                     8592      14.398374   \n",
       "76                    246                     8592      14.398374   \n",
       "77                    246                     8592      14.398374   \n",
       "78                    246                     8592      14.398374   \n",
       "79                    246                     8592      14.398374   \n",
       "80                    246                     8592      14.398374   \n",
       "81                    246                     8592      14.398374   \n",
       "82                    246                     8592      14.398374   \n",
       "83                    246                     8592      14.398374   \n",
       "84                    246                     8592      14.398374   \n",
       "85                    246                     8592      14.398374   \n",
       "86                    246                     8592      14.398374   \n",
       "87                    246                     8592      14.398374   \n",
       "\n",
       "    Labelled/Unlabelled Ratio Kernel   alpha  gamma  n_neighbors  \\\n",
       "75                   0.440875    rbf  0.2000     20          NaN   \n",
       "76                   0.440875    rbf  0.5000     20          NaN   \n",
       "77                   0.440875    rbf  0.9900     20          NaN   \n",
       "78                   0.440875    rbf  0.9900     20          NaN   \n",
       "79                   0.440875    rbf  0.9900     20          NaN   \n",
       "80                   0.440875    rbf  0.9900     20          NaN   \n",
       "81                   0.440875    rbf  0.9900     20          NaN   \n",
       "82                   0.440875    rbf  0.9990     20          NaN   \n",
       "83                   0.440875    rbf  0.9990     20          NaN   \n",
       "84                   0.440875    rbf  0.9990     20          NaN   \n",
       "85                   0.440875    rbf  0.9990     20          NaN   \n",
       "86                   0.440875    rbf  0.9990     20          NaN   \n",
       "87                   0.440875    rbf  0.9999     20          NaN   \n",
       "\n",
       "    Average Accuracy Score  Average Precision Score  Average Recall Score  \\\n",
       "75                0.926294                 0.977300              0.946022   \n",
       "76                0.926927                 0.978200              0.945864   \n",
       "77                0.926927                 0.978423              0.945668   \n",
       "78                0.926927                 0.978423              0.945668   \n",
       "79                0.926927                 0.978423              0.945668   \n",
       "80                0.926927                 0.978423              0.945668   \n",
       "81                0.926927                 0.978423              0.945668   \n",
       "82                0.927138                 0.978648              0.945680   \n",
       "83                0.927138                 0.978648              0.945680   \n",
       "84                0.927138                 0.978648              0.945680   \n",
       "85                0.927138                 0.978648              0.945680   \n",
       "86                0.927138                 0.978648              0.945680   \n",
       "87                0.927350                 0.979323              0.945302   \n",
       "\n",
       "    Avg False Positives  Avg True Positives  Avg False Negatives  \\\n",
       "75             0.021331            0.917635             0.052376   \n",
       "76             0.020486            0.918479             0.052587   \n",
       "77             0.020275            0.918691             0.052798   \n",
       "78             0.020275            0.918691             0.052798   \n",
       "79             0.020275            0.918691             0.052798   \n",
       "80             0.020275            0.918691             0.052798   \n",
       "81             0.020275            0.918691             0.052798   \n",
       "82             0.020063            0.918902             0.052798   \n",
       "83             0.020063            0.918902             0.052798   \n",
       "84             0.020063            0.918902             0.052798   \n",
       "85             0.020063            0.918902             0.052798   \n",
       "86             0.020063            0.918902             0.052798   \n",
       "87             0.019430            0.919535             0.053221   \n",
       "\n",
       "    Average True Negatives  \n",
       "75                0.008659  \n",
       "76                0.008448  \n",
       "77                0.008237  \n",
       "78                0.008237  \n",
       "79                0.008237  \n",
       "80                0.008237  \n",
       "81                0.008237  \n",
       "82                0.008237  \n",
       "83                0.008237  \n",
       "84                0.008237  \n",
       "85                0.008237  \n",
       "86                0.008237  \n",
       "87                0.007814  "
      ]
     },
     "execution_count": 8,
     "metadata": {},
     "output_type": "execute_result"
    }
   ],
   "source": [
    "t1d_res[t1d_res['Pos/Neg ratio'] > 10]"
   ]
  },
  {
   "cell_type": "code",
   "execution_count": null,
   "metadata": {},
   "outputs": [],
   "source": []
  }
 ],
 "metadata": {
  "kernelspec": {
   "display_name": "Python 3",
   "language": "python",
   "name": "python3"
  },
  "language_info": {
   "codemirror_mode": {
    "name": "ipython",
    "version": 3
   },
   "file_extension": ".py",
   "mimetype": "text/x-python",
   "name": "python",
   "nbconvert_exporter": "python",
   "pygments_lexer": "ipython3",
   "version": "3.7.6"
  }
 },
 "nbformat": 4,
 "nbformat_minor": 2
}
